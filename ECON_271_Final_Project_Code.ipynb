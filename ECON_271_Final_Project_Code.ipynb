{
 "cells": [
  {
   "cell_type": "markdown",
   "metadata": {
    "id": "v6OZ9Ec26Ksj"
   },
   "source": [
    "# **FINAL PROJECT CODES**\n",
    "\n",
    "\n",
    "\n",
    "\n"
   ]
  },
  {
   "cell_type": "code",
   "execution_count": 58,
   "metadata": {
    "id": "ERysIEWDcZBZ"
   },
   "outputs": [],
   "source": [
    "# First, before using data for regression analysis, let's clean the data!"
   ]
  },
  {
   "cell_type": "markdown",
   "metadata": {
    "id": "hKSzhRlG6Wut"
   },
   "source": [
    "The first step we need to do before get into the regression analysis is cleaning our dataa."
   ]
  },
  {
   "cell_type": "code",
   "execution_count": 59,
   "metadata": {
    "colab": {
     "base_uri": "https://localhost:8080/"
    },
    "id": "9cY2rO7GcZBa",
    "outputId": "fa4e936b-3ff3-4706-9ded-c1b2e6b3f4ab"
   },
   "outputs": [
    {
     "name": "stdout",
     "output_type": "stream",
     "text": [
      "(88, 11)\n",
      "Price               float64\n",
      "Assess              float64\n",
      "Count of bedroom      int64\n",
      "Lot size              int64\n",
      "House size            int64\n",
      "Colonial?             int64\n",
      "Lprice              float64\n",
      "Lassess             float64\n",
      "Llotsize            float64\n",
      "Lsqrft              float64\n",
      "Unnamed: 10         float64\n",
      "dtype: object\n"
     ]
    }
   ],
   "source": [
    "#IMPORT ALL TOOLS\n",
    "import pandas as pd\n",
    "import numpy as np\n",
    "import seaborn as sns\n",
    "import matplotlib.pyplot as plt\n",
    "%matplotlib inline\n",
    "\n",
    "#READ DATA\n",
    "Hprice = pd.read_csv('Hprice.csv')#load data\n",
    "print(Hprice.shape) #read shape of data\n",
    "print(Hprice.dtypes) #read datatype"
   ]
  },
  {
   "cell_type": "code",
   "execution_count": 60,
   "metadata": {
    "colab": {
     "base_uri": "https://localhost:8080/",
     "height": 204
    },
    "id": "K5a0gXRGvx0V",
    "outputId": "421d4b0f-f237-4030-bcdd-3da92f765ba4"
   },
   "outputs": [
    {
     "data": {
      "text/html": [
       "<div>\n",
       "<style scoped>\n",
       "    .dataframe tbody tr th:only-of-type {\n",
       "        vertical-align: middle;\n",
       "    }\n",
       "\n",
       "    .dataframe tbody tr th {\n",
       "        vertical-align: top;\n",
       "    }\n",
       "\n",
       "    .dataframe thead th {\n",
       "        text-align: right;\n",
       "    }\n",
       "</style>\n",
       "<table border=\"1\" class=\"dataframe\">\n",
       "  <thead>\n",
       "    <tr style=\"text-align: right;\">\n",
       "      <th></th>\n",
       "      <th>Price</th>\n",
       "      <th>Assess</th>\n",
       "      <th>bdrm</th>\n",
       "      <th>lot_size</th>\n",
       "      <th>house_size</th>\n",
       "      <th>colonial</th>\n",
       "      <th>Lprice</th>\n",
       "      <th>Lassess</th>\n",
       "      <th>Llotsize</th>\n",
       "      <th>Lsqrft</th>\n",
       "      <th>Unnamed: 10</th>\n",
       "    </tr>\n",
       "  </thead>\n",
       "  <tbody>\n",
       "    <tr>\n",
       "      <th>0</th>\n",
       "      <td>300.0</td>\n",
       "      <td>349.1</td>\n",
       "      <td>4</td>\n",
       "      <td>6126</td>\n",
       "      <td>2438</td>\n",
       "      <td>1</td>\n",
       "      <td>5.703783</td>\n",
       "      <td>5.855359</td>\n",
       "      <td>8.720297</td>\n",
       "      <td>7.798934</td>\n",
       "      <td>NaN</td>\n",
       "    </tr>\n",
       "    <tr>\n",
       "      <th>1</th>\n",
       "      <td>370.0</td>\n",
       "      <td>351.5</td>\n",
       "      <td>3</td>\n",
       "      <td>9903</td>\n",
       "      <td>2076</td>\n",
       "      <td>1</td>\n",
       "      <td>5.913503</td>\n",
       "      <td>5.862210</td>\n",
       "      <td>9.200593</td>\n",
       "      <td>7.638198</td>\n",
       "      <td>NaN</td>\n",
       "    </tr>\n",
       "    <tr>\n",
       "      <th>2</th>\n",
       "      <td>191.0</td>\n",
       "      <td>217.7</td>\n",
       "      <td>3</td>\n",
       "      <td>5200</td>\n",
       "      <td>1374</td>\n",
       "      <td>0</td>\n",
       "      <td>5.252274</td>\n",
       "      <td>5.383118</td>\n",
       "      <td>8.556414</td>\n",
       "      <td>7.225482</td>\n",
       "      <td>NaN</td>\n",
       "    </tr>\n",
       "    <tr>\n",
       "      <th>3</th>\n",
       "      <td>195.0</td>\n",
       "      <td>231.8</td>\n",
       "      <td>3</td>\n",
       "      <td>4600</td>\n",
       "      <td>1448</td>\n",
       "      <td>1</td>\n",
       "      <td>5.273000</td>\n",
       "      <td>5.445875</td>\n",
       "      <td>8.433811</td>\n",
       "      <td>7.277938</td>\n",
       "      <td>NaN</td>\n",
       "    </tr>\n",
       "    <tr>\n",
       "      <th>4</th>\n",
       "      <td>373.0</td>\n",
       "      <td>319.1</td>\n",
       "      <td>4</td>\n",
       "      <td>6095</td>\n",
       "      <td>2514</td>\n",
       "      <td>1</td>\n",
       "      <td>5.921578</td>\n",
       "      <td>5.765504</td>\n",
       "      <td>8.715224</td>\n",
       "      <td>7.829630</td>\n",
       "      <td>NaN</td>\n",
       "    </tr>\n",
       "  </tbody>\n",
       "</table>\n",
       "</div>"
      ],
      "text/plain": [
       "   Price  Assess  bdrm  lot_size  house_size  colonial    Lprice   Lassess  \\\n",
       "0  300.0   349.1     4      6126        2438         1  5.703783  5.855359   \n",
       "1  370.0   351.5     3      9903        2076         1  5.913503  5.862210   \n",
       "2  191.0   217.7     3      5200        1374         0  5.252274  5.383118   \n",
       "3  195.0   231.8     3      4600        1448         1  5.273000  5.445875   \n",
       "4  373.0   319.1     4      6095        2514         1  5.921578  5.765504   \n",
       "\n",
       "   Llotsize    Lsqrft  Unnamed: 10  \n",
       "0  8.720297  7.798934          NaN  \n",
       "1  9.200593  7.638198          NaN  \n",
       "2  8.556414  7.225482          NaN  \n",
       "3  8.433811  7.277938          NaN  \n",
       "4  8.715224  7.829630          NaN  "
      ]
     },
     "execution_count": 60,
     "metadata": {},
     "output_type": "execute_result"
    }
   ],
   "source": [
    "Hprice.rename(columns = {'Lot size':'lot_size', 'House size':'house_size', 'Count of bedroom':'bdrm', 'Colonial?':'colonial'}, inplace=True)\n",
    "Hprice.head()"
   ]
  },
  {
   "cell_type": "code",
   "execution_count": 61,
   "metadata": {
    "colab": {
     "base_uri": "https://localhost:8080/",
     "height": 419
    },
    "id": "xsLrWPq0oZrL",
    "outputId": "c8e0fc39-8cc2-41e9-af44-21a1bb540050"
   },
   "outputs": [
    {
     "data": {
      "text/html": [
       "<div>\n",
       "<style scoped>\n",
       "    .dataframe tbody tr th:only-of-type {\n",
       "        vertical-align: middle;\n",
       "    }\n",
       "\n",
       "    .dataframe tbody tr th {\n",
       "        vertical-align: top;\n",
       "    }\n",
       "\n",
       "    .dataframe thead th {\n",
       "        text-align: right;\n",
       "    }\n",
       "</style>\n",
       "<table border=\"1\" class=\"dataframe\">\n",
       "  <thead>\n",
       "    <tr style=\"text-align: right;\">\n",
       "      <th></th>\n",
       "      <th>Price</th>\n",
       "      <th>Assess</th>\n",
       "      <th>bdrm</th>\n",
       "      <th>lot_size</th>\n",
       "      <th>house_size</th>\n",
       "      <th>colonial</th>\n",
       "      <th>Lprice</th>\n",
       "      <th>Lassess</th>\n",
       "      <th>Llotsize</th>\n",
       "      <th>Lsqrft</th>\n",
       "      <th>Unnamed: 10</th>\n",
       "    </tr>\n",
       "  </thead>\n",
       "  <tbody>\n",
       "    <tr>\n",
       "      <th>0</th>\n",
       "      <td>300.0</td>\n",
       "      <td>349.1</td>\n",
       "      <td>4</td>\n",
       "      <td>6126</td>\n",
       "      <td>2438</td>\n",
       "      <td>1</td>\n",
       "      <td>5.703783</td>\n",
       "      <td>5.855359</td>\n",
       "      <td>8.720297</td>\n",
       "      <td>7.798934</td>\n",
       "      <td>NaN</td>\n",
       "    </tr>\n",
       "    <tr>\n",
       "      <th>1</th>\n",
       "      <td>370.0</td>\n",
       "      <td>351.5</td>\n",
       "      <td>3</td>\n",
       "      <td>9903</td>\n",
       "      <td>2076</td>\n",
       "      <td>1</td>\n",
       "      <td>5.913503</td>\n",
       "      <td>5.862210</td>\n",
       "      <td>9.200593</td>\n",
       "      <td>7.638198</td>\n",
       "      <td>NaN</td>\n",
       "    </tr>\n",
       "    <tr>\n",
       "      <th>2</th>\n",
       "      <td>191.0</td>\n",
       "      <td>217.7</td>\n",
       "      <td>3</td>\n",
       "      <td>5200</td>\n",
       "      <td>1374</td>\n",
       "      <td>0</td>\n",
       "      <td>5.252274</td>\n",
       "      <td>5.383118</td>\n",
       "      <td>8.556414</td>\n",
       "      <td>7.225482</td>\n",
       "      <td>NaN</td>\n",
       "    </tr>\n",
       "    <tr>\n",
       "      <th>3</th>\n",
       "      <td>195.0</td>\n",
       "      <td>231.8</td>\n",
       "      <td>3</td>\n",
       "      <td>4600</td>\n",
       "      <td>1448</td>\n",
       "      <td>1</td>\n",
       "      <td>5.273000</td>\n",
       "      <td>5.445875</td>\n",
       "      <td>8.433811</td>\n",
       "      <td>7.277938</td>\n",
       "      <td>NaN</td>\n",
       "    </tr>\n",
       "    <tr>\n",
       "      <th>4</th>\n",
       "      <td>373.0</td>\n",
       "      <td>319.1</td>\n",
       "      <td>4</td>\n",
       "      <td>6095</td>\n",
       "      <td>2514</td>\n",
       "      <td>1</td>\n",
       "      <td>5.921578</td>\n",
       "      <td>5.765504</td>\n",
       "      <td>8.715224</td>\n",
       "      <td>7.829630</td>\n",
       "      <td>NaN</td>\n",
       "    </tr>\n",
       "    <tr>\n",
       "      <th>...</th>\n",
       "      <td>...</td>\n",
       "      <td>...</td>\n",
       "      <td>...</td>\n",
       "      <td>...</td>\n",
       "      <td>...</td>\n",
       "      <td>...</td>\n",
       "      <td>...</td>\n",
       "      <td>...</td>\n",
       "      <td>...</td>\n",
       "      <td>...</td>\n",
       "      <td>...</td>\n",
       "    </tr>\n",
       "    <tr>\n",
       "      <th>83</th>\n",
       "      <td>295.0</td>\n",
       "      <td>318.3</td>\n",
       "      <td>3</td>\n",
       "      <td>6056</td>\n",
       "      <td>1837</td>\n",
       "      <td>1</td>\n",
       "      <td>5.686975</td>\n",
       "      <td>5.762994</td>\n",
       "      <td>8.708805</td>\n",
       "      <td>7.515889</td>\n",
       "      <td>NaN</td>\n",
       "    </tr>\n",
       "    <tr>\n",
       "      <th>84</th>\n",
       "      <td>236.0</td>\n",
       "      <td>259.4</td>\n",
       "      <td>3</td>\n",
       "      <td>5828</td>\n",
       "      <td>1715</td>\n",
       "      <td>0</td>\n",
       "      <td>5.463832</td>\n",
       "      <td>5.558371</td>\n",
       "      <td>8.670429</td>\n",
       "      <td>7.447168</td>\n",
       "      <td>NaN</td>\n",
       "    </tr>\n",
       "    <tr>\n",
       "      <th>85</th>\n",
       "      <td>202.5</td>\n",
       "      <td>258.1</td>\n",
       "      <td>3</td>\n",
       "      <td>6341</td>\n",
       "      <td>1574</td>\n",
       "      <td>0</td>\n",
       "      <td>5.310740</td>\n",
       "      <td>5.553347</td>\n",
       "      <td>8.754792</td>\n",
       "      <td>7.361375</td>\n",
       "      <td>NaN</td>\n",
       "    </tr>\n",
       "    <tr>\n",
       "      <th>86</th>\n",
       "      <td>219.0</td>\n",
       "      <td>232.0</td>\n",
       "      <td>2</td>\n",
       "      <td>6362</td>\n",
       "      <td>1185</td>\n",
       "      <td>0</td>\n",
       "      <td>5.389072</td>\n",
       "      <td>5.446737</td>\n",
       "      <td>8.758098</td>\n",
       "      <td>7.077498</td>\n",
       "      <td>NaN</td>\n",
       "    </tr>\n",
       "    <tr>\n",
       "      <th>87</th>\n",
       "      <td>242.0</td>\n",
       "      <td>252.0</td>\n",
       "      <td>4</td>\n",
       "      <td>4950</td>\n",
       "      <td>1774</td>\n",
       "      <td>1</td>\n",
       "      <td>5.488938</td>\n",
       "      <td>5.529429</td>\n",
       "      <td>8.507143</td>\n",
       "      <td>7.480992</td>\n",
       "      <td>NaN</td>\n",
       "    </tr>\n",
       "  </tbody>\n",
       "</table>\n",
       "<p>88 rows × 11 columns</p>\n",
       "</div>"
      ],
      "text/plain": [
       "    Price  Assess  bdrm  lot_size  house_size  colonial    Lprice   Lassess  \\\n",
       "0   300.0   349.1     4      6126        2438         1  5.703783  5.855359   \n",
       "1   370.0   351.5     3      9903        2076         1  5.913503  5.862210   \n",
       "2   191.0   217.7     3      5200        1374         0  5.252274  5.383118   \n",
       "3   195.0   231.8     3      4600        1448         1  5.273000  5.445875   \n",
       "4   373.0   319.1     4      6095        2514         1  5.921578  5.765504   \n",
       "..    ...     ...   ...       ...         ...       ...       ...       ...   \n",
       "83  295.0   318.3     3      6056        1837         1  5.686975  5.762994   \n",
       "84  236.0   259.4     3      5828        1715         0  5.463832  5.558371   \n",
       "85  202.5   258.1     3      6341        1574         0  5.310740  5.553347   \n",
       "86  219.0   232.0     2      6362        1185         0  5.389072  5.446737   \n",
       "87  242.0   252.0     4      4950        1774         1  5.488938  5.529429   \n",
       "\n",
       "    Llotsize    Lsqrft  Unnamed: 10  \n",
       "0   8.720297  7.798934          NaN  \n",
       "1   9.200593  7.638198          NaN  \n",
       "2   8.556414  7.225482          NaN  \n",
       "3   8.433811  7.277938          NaN  \n",
       "4   8.715224  7.829630          NaN  \n",
       "..       ...       ...          ...  \n",
       "83  8.708805  7.515889          NaN  \n",
       "84  8.670429  7.447168          NaN  \n",
       "85  8.754792  7.361375          NaN  \n",
       "86  8.758098  7.077498          NaN  \n",
       "87  8.507143  7.480992          NaN  \n",
       "\n",
       "[88 rows x 11 columns]"
      ]
     },
     "execution_count": 61,
     "metadata": {},
     "output_type": "execute_result"
    }
   ],
   "source": [
    "Hprice"
   ]
  },
  {
   "cell_type": "code",
   "execution_count": 62,
   "metadata": {
    "colab": {
     "base_uri": "https://localhost:8080/"
    },
    "id": "KMEuJJ6DcZBc",
    "outputId": "746cfd28-0515-4768-98a9-aa6514b1268f"
   },
   "outputs": [
    {
     "name": "stdout",
     "output_type": "stream",
     "text": [
      "['Price' 'Assess' 'bdrm' 'lot_size' 'house_size' 'colonial' 'Lprice'\n",
      " 'Lassess' 'Llotsize' 'Lsqrft' 'Unnamed: 10']\n",
      "    Price  Assess  bdrm  lot_size  house_size  colonial    Lprice   Lassess  \\\n",
      "0   300.0   349.1     4      6126        2438         1  5.703783  5.855359   \n",
      "1   370.0   351.5     3      9903        2076         1  5.913503  5.862210   \n",
      "2   191.0   217.7     3      5200        1374         0  5.252274  5.383118   \n",
      "3   195.0   231.8     3      4600        1448         1  5.273000  5.445875   \n",
      "4   373.0   319.1     4      6095        2514         1  5.921578  5.765504   \n",
      "..    ...     ...   ...       ...         ...       ...       ...       ...   \n",
      "83  295.0   318.3     3      6056        1837         1  5.686975  5.762994   \n",
      "84  236.0   259.4     3      5828        1715         0  5.463832  5.558371   \n",
      "85  202.5   258.1     3      6341        1574         0  5.310740  5.553347   \n",
      "86  219.0   232.0     2      6362        1185         0  5.389072  5.446737   \n",
      "87  242.0   252.0     4      4950        1774         1  5.488938  5.529429   \n",
      "\n",
      "    Llotsize    Lsqrft  Unnamed: 10  \n",
      "0   8.720297  7.798934          NaN  \n",
      "1   9.200593  7.638198          NaN  \n",
      "2   8.556414  7.225482          NaN  \n",
      "3   8.433811  7.277938          NaN  \n",
      "4   8.715224  7.829630          NaN  \n",
      "..       ...       ...          ...  \n",
      "83  8.708805  7.515889          NaN  \n",
      "84  8.670429  7.447168          NaN  \n",
      "85  8.754792  7.361375          NaN  \n",
      "86  8.758098  7.077498          NaN  \n",
      "87  8.507143  7.480992          NaN  \n",
      "\n",
      "[88 rows x 11 columns]\n"
     ]
    }
   ],
   "source": [
    "Hprice_numeric = Hprice.select_dtypes(include='number') #creating a dataframe Hprice_numeric using select_dtypes()\n",
    "numeric_cols = Hprice_numeric.columns.values #retrieving the names of the columns from Hprice_numeric\n",
    "print(numeric_cols)\n",
    "print(Hprice_numeric)"
   ]
  },
  {
   "cell_type": "code",
   "execution_count": 63,
   "metadata": {
    "colab": {
     "base_uri": "https://localhost:8080/",
     "height": 327
    },
    "id": "S30ocS7fcZBd",
    "outputId": "fcf95f4d-7752-462d-d1ca-c48de0602ccd"
   },
   "outputs": [
    {
     "data": {
      "image/png": "[encoded data removed]",
      "text/plain": [
       "<Figure size 432x288 with 2 Axes>"
      ]
     },
     "metadata": {
      "needs_background": "light"
     },
     "output_type": "display_data"
    }
   ],
   "source": [
    "#Creating HEATMAP to show the presence of the missing values\n",
    "sns.heatmap(Hprice.isnull(), cmap=sns.color_palette(palette='colorblind'), vmin=0, vmax=1) \n",
    "plt.show()"
   ]
  },
  {
   "cell_type": "markdown",
   "metadata": {
    "id": "21MFbyqv6FlG"
   },
   "source": [
    "Based on the Heatmap we can see that there is a strange Unnamed: 10 column that have missing values. This unnamed column in pandas comes when we are reading CSV file using it, so we will simply drop the column unnamed:10. All other columns are clean."
   ]
  },
  {
   "cell_type": "code",
   "execution_count": 64,
   "metadata": {
    "id": "-i_28VVJcZBj"
   },
   "outputs": [],
   "source": [
    "Hprice = Hprice.drop('Unnamed: 10',axis=1)"
   ]
  },
  {
   "cell_type": "markdown",
   "metadata": {
    "id": "2VAdeJhbUv_x"
   },
   "source": [
    "Recheck the graph to make sure that the column is dropped"
   ]
  },
  {
   "cell_type": "code",
   "execution_count": 65,
   "metadata": {
    "colab": {
     "base_uri": "https://localhost:8080/",
     "height": 378
    },
    "id": "qOgfC1nScZBk",
    "outputId": "82d61725-2112-44bc-93a3-768d0ea0e4b0"
   },
   "outputs": [
    {
     "data": {
      "image/png": "[encoded data removed]",
      "text/plain": [
       "<Figure size 432x288 with 2 Axes>"
      ]
     },
     "metadata": {
      "needs_background": "light"
     },
     "output_type": "display_data"
    }
   ],
   "source": [
    "sns.heatmap(Hprice.isnull(), cmap=sns.color_palette(palette='colorblind'), vmin=0, vmax=1) \n",
    "plt.show()"
   ]
  },
  {
   "cell_type": "markdown",
   "metadata": {
    "id": "Ntor8--jVNoM"
   },
   "source": [
    "Let's check to see if there is any null or missing value left in the dataset\n"
   ]
  },
  {
   "cell_type": "code",
   "execution_count": 66,
   "metadata": {
    "colab": {
     "base_uri": "https://localhost:8080/",
     "height": 456
    },
    "id": "zA7V-PN4cZBk",
    "outputId": "4d74741a-e124-4a2f-8f64-9f2502823556"
   },
   "outputs": [
    {
     "data": {
      "text/html": [
       "<div>\n",
       "<style scoped>\n",
       "    .dataframe tbody tr th:only-of-type {\n",
       "        vertical-align: middle;\n",
       "    }\n",
       "\n",
       "    .dataframe tbody tr th {\n",
       "        vertical-align: top;\n",
       "    }\n",
       "\n",
       "    .dataframe thead th {\n",
       "        text-align: right;\n",
       "    }\n",
       "</style>\n",
       "<table border=\"1\" class=\"dataframe\">\n",
       "  <thead>\n",
       "    <tr style=\"text-align: right;\">\n",
       "      <th></th>\n",
       "      <th>Price</th>\n",
       "      <th>Assess</th>\n",
       "      <th>bdrm</th>\n",
       "      <th>lot_size</th>\n",
       "      <th>house_size</th>\n",
       "      <th>colonial</th>\n",
       "      <th>Lprice</th>\n",
       "      <th>Lassess</th>\n",
       "      <th>Llotsize</th>\n",
       "      <th>Lsqrft</th>\n",
       "    </tr>\n",
       "  </thead>\n",
       "  <tbody>\n",
       "    <tr>\n",
       "      <th>0</th>\n",
       "      <td>False</td>\n",
       "      <td>False</td>\n",
       "      <td>False</td>\n",
       "      <td>False</td>\n",
       "      <td>False</td>\n",
       "      <td>False</td>\n",
       "      <td>False</td>\n",
       "      <td>False</td>\n",
       "      <td>False</td>\n",
       "      <td>False</td>\n",
       "    </tr>\n",
       "    <tr>\n",
       "      <th>1</th>\n",
       "      <td>False</td>\n",
       "      <td>False</td>\n",
       "      <td>False</td>\n",
       "      <td>False</td>\n",
       "      <td>False</td>\n",
       "      <td>False</td>\n",
       "      <td>False</td>\n",
       "      <td>False</td>\n",
       "      <td>False</td>\n",
       "      <td>False</td>\n",
       "    </tr>\n",
       "    <tr>\n",
       "      <th>2</th>\n",
       "      <td>False</td>\n",
       "      <td>False</td>\n",
       "      <td>False</td>\n",
       "      <td>False</td>\n",
       "      <td>False</td>\n",
       "      <td>False</td>\n",
       "      <td>False</td>\n",
       "      <td>False</td>\n",
       "      <td>False</td>\n",
       "      <td>False</td>\n",
       "    </tr>\n",
       "    <tr>\n",
       "      <th>3</th>\n",
       "      <td>False</td>\n",
       "      <td>False</td>\n",
       "      <td>False</td>\n",
       "      <td>False</td>\n",
       "      <td>False</td>\n",
       "      <td>False</td>\n",
       "      <td>False</td>\n",
       "      <td>False</td>\n",
       "      <td>False</td>\n",
       "      <td>False</td>\n",
       "    </tr>\n",
       "    <tr>\n",
       "      <th>4</th>\n",
       "      <td>False</td>\n",
       "      <td>False</td>\n",
       "      <td>False</td>\n",
       "      <td>False</td>\n",
       "      <td>False</td>\n",
       "      <td>False</td>\n",
       "      <td>False</td>\n",
       "      <td>False</td>\n",
       "      <td>False</td>\n",
       "      <td>False</td>\n",
       "    </tr>\n",
       "    <tr>\n",
       "      <th>...</th>\n",
       "      <td>...</td>\n",
       "      <td>...</td>\n",
       "      <td>...</td>\n",
       "      <td>...</td>\n",
       "      <td>...</td>\n",
       "      <td>...</td>\n",
       "      <td>...</td>\n",
       "      <td>...</td>\n",
       "      <td>...</td>\n",
       "      <td>...</td>\n",
       "    </tr>\n",
       "    <tr>\n",
       "      <th>83</th>\n",
       "      <td>False</td>\n",
       "      <td>False</td>\n",
       "      <td>False</td>\n",
       "      <td>False</td>\n",
       "      <td>False</td>\n",
       "      <td>False</td>\n",
       "      <td>False</td>\n",
       "      <td>False</td>\n",
       "      <td>False</td>\n",
       "      <td>False</td>\n",
       "    </tr>\n",
       "    <tr>\n",
       "      <th>84</th>\n",
       "      <td>False</td>\n",
       "      <td>False</td>\n",
       "      <td>False</td>\n",
       "      <td>False</td>\n",
       "      <td>False</td>\n",
       "      <td>False</td>\n",
       "      <td>False</td>\n",
       "      <td>False</td>\n",
       "      <td>False</td>\n",
       "      <td>False</td>\n",
       "    </tr>\n",
       "    <tr>\n",
       "      <th>85</th>\n",
       "      <td>False</td>\n",
       "      <td>False</td>\n",
       "      <td>False</td>\n",
       "      <td>False</td>\n",
       "      <td>False</td>\n",
       "      <td>False</td>\n",
       "      <td>False</td>\n",
       "      <td>False</td>\n",
       "      <td>False</td>\n",
       "      <td>False</td>\n",
       "    </tr>\n",
       "    <tr>\n",
       "      <th>86</th>\n",
       "      <td>False</td>\n",
       "      <td>False</td>\n",
       "      <td>False</td>\n",
       "      <td>False</td>\n",
       "      <td>False</td>\n",
       "      <td>False</td>\n",
       "      <td>False</td>\n",
       "      <td>False</td>\n",
       "      <td>False</td>\n",
       "      <td>False</td>\n",
       "    </tr>\n",
       "    <tr>\n",
       "      <th>87</th>\n",
       "      <td>False</td>\n",
       "      <td>False</td>\n",
       "      <td>False</td>\n",
       "      <td>False</td>\n",
       "      <td>False</td>\n",
       "      <td>False</td>\n",
       "      <td>False</td>\n",
       "      <td>False</td>\n",
       "      <td>False</td>\n",
       "      <td>False</td>\n",
       "    </tr>\n",
       "  </tbody>\n",
       "</table>\n",
       "<p>88 rows × 10 columns</p>\n",
       "</div>"
      ],
      "text/plain": [
       "    Price  Assess   bdrm  lot_size  house_size  colonial  Lprice  Lassess  \\\n",
       "0   False   False  False     False       False     False   False    False   \n",
       "1   False   False  False     False       False     False   False    False   \n",
       "2   False   False  False     False       False     False   False    False   \n",
       "3   False   False  False     False       False     False   False    False   \n",
       "4   False   False  False     False       False     False   False    False   \n",
       "..    ...     ...    ...       ...         ...       ...     ...      ...   \n",
       "83  False   False  False     False       False     False   False    False   \n",
       "84  False   False  False     False       False     False   False    False   \n",
       "85  False   False  False     False       False     False   False    False   \n",
       "86  False   False  False     False       False     False   False    False   \n",
       "87  False   False  False     False       False     False   False    False   \n",
       "\n",
       "    Llotsize  Lsqrft  \n",
       "0      False   False  \n",
       "1      False   False  \n",
       "2      False   False  \n",
       "3      False   False  \n",
       "4      False   False  \n",
       "..       ...     ...  \n",
       "83     False   False  \n",
       "84     False   False  \n",
       "85     False   False  \n",
       "86     False   False  \n",
       "87     False   False  \n",
       "\n",
       "[88 rows x 10 columns]"
      ]
     },
     "execution_count": 66,
     "metadata": {},
     "output_type": "execute_result"
    }
   ],
   "source": [
    "Hprice.isnull()"
   ]
  },
  {
   "cell_type": "markdown",
   "metadata": {
    "id": "yfr8r6_QVeFO"
   },
   "source": [
    "Since Assess and Price value cannot be 0, we will drop any row where those values is  equal 0"
   ]
  },
  {
   "cell_type": "code",
   "execution_count": 67,
   "metadata": {
    "id": "fb2Ir2GvcZBl"
   },
   "outputs": [],
   "source": [
    "Hprice.drop(Hprice.index[Hprice[\"Price\"]==0], axis=0, inplace=True)\n",
    "Hprice.drop(Hprice.index[Hprice[\"Assess\"]==0], axis=0, inplace=True)"
   ]
  },
  {
   "cell_type": "markdown",
   "metadata": {
    "id": "W4ZuiWlwVz0J"
   },
   "source": [
    "After that being done, we will detect if our variables have any outliers\n",
    "\n",
    "> First we find outliers in our outcome variable by using histogram and box plot\n",
    "\n"
   ]
  },
  {
   "cell_type": "code",
   "execution_count": 68,
   "metadata": {
    "colab": {
     "base_uri": "https://localhost:8080/",
     "height": 418
    },
    "id": "tii-f4XCcZBl",
    "outputId": "89693c93-936b-47b2-a370-5cb2ad653248"
   },
   "outputs": [
    {
     "data": {
      "image/png": "[encoded data removed]",
      "text/plain": [
       "<Figure size 432x288 with 1 Axes>"
      ]
     },
     "metadata": {
      "needs_background": "light"
     },
     "output_type": "display_data"
    },
    {
     "data": {
      "text/plain": [
       "count     88.000000\n",
       "mean     315.736364\n",
       "std       95.314437\n",
       "min      198.700000\n",
       "25%      253.900000\n",
       "50%      290.200000\n",
       "75%      352.125000\n",
       "max      708.600000\n",
       "Name: Assess, dtype: float64"
      ]
     },
     "execution_count": 68,
     "metadata": {},
     "output_type": "execute_result"
    }
   ],
   "source": [
    "Hprice.Assess.hist(bins=100)\n",
    "plt.show()\n",
    "Hprice['Assess'].describe()"
   ]
  },
  {
   "cell_type": "code",
   "execution_count": 69,
   "metadata": {
    "colab": {
     "base_uri": "https://localhost:8080/",
     "height": 279
    },
    "id": "WoGdmdZZcZBm",
    "outputId": "511a9241-4deb-49c9-f062-01be7a190630"
   },
   "outputs": [
    {
     "data": {
      "image/png": "[encoded data removed]",
      "text/plain": [
       "<Figure size 432x288 with 1 Axes>"
      ]
     },
     "metadata": {
      "needs_background": "light"
     },
     "output_type": "display_data"
    }
   ],
   "source": [
    "sns.boxplot(data=Hprice,x='Assess')\n",
    "plt.show()"
   ]
  },
  {
   "cell_type": "code",
   "execution_count": 70,
   "metadata": {
    "colab": {
     "base_uri": "https://localhost:8080/"
    },
    "id": "AFArHWRqcZBm",
    "outputId": "48a2b010-d8cb-4a44-b77d-a6e8e42f2578"
   },
   "outputs": [
    {
     "data": {
      "text/plain": [
       "array([4, 3, 5, 7, 2, 6])"
      ]
     },
     "execution_count": 70,
     "metadata": {},
     "output_type": "execute_result"
    }
   ],
   "source": [
    "Hprice['bdrm'].unique() #find the unique variables in bdrm"
   ]
  },
  {
   "cell_type": "markdown",
   "metadata": {
    "id": "pZ4fW2jpWkKI"
   },
   "source": [
    "We can use bar chart to see the distribution of a categorical variable bedroom (bdrm)"
   ]
  },
  {
   "cell_type": "code",
   "execution_count": 71,
   "metadata": {
    "colab": {
     "base_uri": "https://localhost:8080/",
     "height": 262
    },
    "id": "wzVoPLPFcZBn",
    "outputId": "bdb1c03a-78df-4647-8edd-734b6a53b5d0"
   },
   "outputs": [
    {
     "data": {
      "image/png": "[encoded data removed]",
      "text/plain": [
       "<Figure size 432x288 with 1 Axes>"
      ]
     },
     "metadata": {
      "needs_background": "light"
     },
     "output_type": "display_data"
    },
    {
     "data": {
      "text/plain": [
       "count    88.000000\n",
       "mean      3.568182\n",
       "std       0.841393\n",
       "min       2.000000\n",
       "25%       3.000000\n",
       "50%       3.000000\n",
       "75%       4.000000\n",
       "max       7.000000\n",
       "Name: bdrm, dtype: float64"
      ]
     },
     "execution_count": 71,
     "metadata": {},
     "output_type": "execute_result"
    }
   ],
   "source": [
    "Hprice['bdrm'].value_counts().plot.bar()\n",
    "plt.show()\n",
    "Hprice['bdrm'].describe()"
   ]
  },
  {
   "cell_type": "markdown",
   "metadata": {
    "id": "_XGDtEFzWuj2"
   },
   "source": [
    "Next, we find outliers in our explanatory variable using histogram and box plot"
   ]
  },
  {
   "cell_type": "code",
   "execution_count": 72,
   "metadata": {},
   "outputs": [
    {
     "data": {
      "image/png": "[encoded data removed]",
      "text/plain": [
       "<Figure size 432x288 with 1 Axes>"
      ]
     },
     "metadata": {
      "needs_background": "light"
     },
     "output_type": "display_data"
    }
   ],
   "source": [
    "sns.boxplot(data=Hprice,x='bdrm')\n",
    "plt.show()"
   ]
  },
  {
   "cell_type": "code",
   "execution_count": 73,
   "metadata": {
    "colab": {
     "base_uri": "https://localhost:8080/",
     "height": 418
    },
    "id": "-30DFiafcZBn",
    "outputId": "233918c4-0cdd-4507-dd54-429265ed7743"
   },
   "outputs": [
    {
     "data": {
      "image/png": "[encoded data removed]",
      "text/plain": [
       "<Figure size 432x288 with 1 Axes>"
      ]
     },
     "metadata": {
      "needs_background": "light"
     },
     "output_type": "display_data"
    },
    {
     "data": {
      "text/plain": [
       "count       88.000000\n",
       "mean      9019.863636\n",
       "std      10174.150414\n",
       "min       1000.000000\n",
       "25%       5732.750000\n",
       "50%       6430.000000\n",
       "75%       8583.250000\n",
       "max      92681.000000\n",
       "Name: lot_size, dtype: float64"
      ]
     },
     "execution_count": 73,
     "metadata": {},
     "output_type": "execute_result"
    }
   ],
   "source": [
    "Hprice.lot_size.hist(bins=100)\n",
    "plt.show()\n",
    "Hprice['lot_size'].describe()"
   ]
  },
  {
   "cell_type": "code",
   "execution_count": 74,
   "metadata": {
    "colab": {
     "base_uri": "https://localhost:8080/",
     "height": 280
    },
    "id": "TRyy2mbJcZBo",
    "outputId": "99ae3b18-6a5f-404e-f244-5dfbb98fa0f9"
   },
   "outputs": [
    {
     "data": {
      "image/png": "[encoded data removed]",
      "text/plain": [
       "<Figure size 432x288 with 1 Axes>"
      ]
     },
     "metadata": {
      "needs_background": "light"
     },
     "output_type": "display_data"
    }
   ],
   "source": [
    "sns.boxplot(data=Hprice,x='lot_size')\n",
    "plt.show()"
   ]
  },
  {
   "cell_type": "markdown",
   "metadata": {
    "id": "Eus-1mHRW9K1"
   },
   "source": [
    "Next, we find outliers in our outcome variable using histogram and box plot"
   ]
  },
  {
   "cell_type": "code",
   "execution_count": 75,
   "metadata": {
    "colab": {
     "base_uri": "https://localhost:8080/",
     "height": 418
    },
    "id": "6nidv3ObcZBo",
    "outputId": "a42e7aae-e4d3-40ed-c921-5f9f284d6f93"
   },
   "outputs": [
    {
     "data": {
      "image/png": "[encoded data removed]",
      "text/plain": [
       "<Figure size 432x288 with 1 Axes>"
      ]
     },
     "metadata": {
      "needs_background": "light"
     },
     "output_type": "display_data"
    },
    {
     "data": {
      "text/plain": [
       "count      88.000000\n",
       "mean     2013.693182\n",
       "std       577.191583\n",
       "min      1171.000000\n",
       "25%      1660.500000\n",
       "50%      1845.000000\n",
       "75%      2227.000000\n",
       "max      3880.000000\n",
       "Name: house_size, dtype: float64"
      ]
     },
     "execution_count": 75,
     "metadata": {},
     "output_type": "execute_result"
    }
   ],
   "source": [
    "Hprice.house_size.hist(bins=100)\n",
    "plt.show()\n",
    "Hprice['house_size'].describe() "
   ]
  },
  {
   "cell_type": "code",
   "execution_count": 76,
   "metadata": {
    "colab": {
     "base_uri": "https://localhost:8080/",
     "height": 280
    },
    "id": "ynFdz1h_cZBp",
    "outputId": "26067511-d062-49f2-82b4-700d1ddfc1c0"
   },
   "outputs": [
    {
     "data": {
      "image/png": "[encoded data removed]",
      "text/plain": [
       "<Figure size 432x288 with 1 Axes>"
      ]
     },
     "metadata": {
      "needs_background": "light"
     },
     "output_type": "display_data"
    }
   ],
   "source": [
    "sns.boxplot(data=Hprice,x='house_size')\n",
    "plt.show()"
   ]
  },
  {
   "cell_type": "code",
   "execution_count": 77,
   "metadata": {
    "colab": {
     "base_uri": "https://localhost:8080/"
    },
    "id": "pqjmEHDpcZBq",
    "outputId": "64fe7a99-939f-4507-9105-2c24a574b77e"
   },
   "outputs": [
    {
     "data": {
      "text/plain": [
       "array([1, 0])"
      ]
     },
     "execution_count": 77,
     "metadata": {},
     "output_type": "execute_result"
    }
   ],
   "source": [
    "Hprice['colonial'].unique() #find the unique value in colonial"
   ]
  },
  {
   "cell_type": "markdown",
   "metadata": {
    "id": "rHA5HK4VXLKG"
   },
   "source": [
    "Using a bar chart we can see the distribution of the colonial variable"
   ]
  },
  {
   "cell_type": "code",
   "execution_count": 78,
   "metadata": {
    "colab": {
     "base_uri": "https://localhost:8080/",
     "height": 262
    },
    "id": "GvzpXN5mcZBq",
    "outputId": "d60d998e-c015-4b3a-f11a-dddbb7b35475"
   },
   "outputs": [
    {
     "data": {
      "image/png": "[encoded data removed]",
      "text/plain": [
       "<Figure size 432x288 with 1 Axes>"
      ]
     },
     "metadata": {
      "needs_background": "light"
     },
     "output_type": "display_data"
    }
   ],
   "source": [
    "Hprice['colonial'].value_counts().plot.bar()\n",
    "plt.show()"
   ]
  },
  {
   "cell_type": "markdown",
   "metadata": {},
   "source": [
    "So, from the graphs and boxplots we know that all the value except colonial, which is a dummy variale, have outliers. To prevent these ourliers skewing our analysis, will take the natural log of them (lassess, llotsize, lsqrft, colonial)"
   ]
  },
  {
   "cell_type": "markdown",
   "metadata": {},
   "source": [
    "**Rename Natrual Log columns**"
   ]
  },
  {
   "cell_type": "code",
   "execution_count": 79,
   "metadata": {},
   "outputs": [
    {
     "data": {
      "text/html": [
       "<div>\n",
       "<style scoped>\n",
       "    .dataframe tbody tr th:only-of-type {\n",
       "        vertical-align: middle;\n",
       "    }\n",
       "\n",
       "    .dataframe tbody tr th {\n",
       "        vertical-align: top;\n",
       "    }\n",
       "\n",
       "    .dataframe thead th {\n",
       "        text-align: right;\n",
       "    }\n",
       "</style>\n",
       "<table border=\"1\" class=\"dataframe\">\n",
       "  <thead>\n",
       "    <tr style=\"text-align: right;\">\n",
       "      <th></th>\n",
       "      <th>Price</th>\n",
       "      <th>Assess</th>\n",
       "      <th>bdrm</th>\n",
       "      <th>lot_size</th>\n",
       "      <th>house_size</th>\n",
       "      <th>colonial</th>\n",
       "      <th>Lprice</th>\n",
       "      <th>Lassess</th>\n",
       "      <th>llot_size</th>\n",
       "      <th>lhouse_size</th>\n",
       "    </tr>\n",
       "  </thead>\n",
       "  <tbody>\n",
       "    <tr>\n",
       "      <th>0</th>\n",
       "      <td>300.0</td>\n",
       "      <td>349.1</td>\n",
       "      <td>4</td>\n",
       "      <td>6126</td>\n",
       "      <td>2438</td>\n",
       "      <td>1</td>\n",
       "      <td>5.703783</td>\n",
       "      <td>5.855359</td>\n",
       "      <td>8.720297</td>\n",
       "      <td>7.798934</td>\n",
       "    </tr>\n",
       "    <tr>\n",
       "      <th>1</th>\n",
       "      <td>370.0</td>\n",
       "      <td>351.5</td>\n",
       "      <td>3</td>\n",
       "      <td>9903</td>\n",
       "      <td>2076</td>\n",
       "      <td>1</td>\n",
       "      <td>5.913503</td>\n",
       "      <td>5.862210</td>\n",
       "      <td>9.200593</td>\n",
       "      <td>7.638198</td>\n",
       "    </tr>\n",
       "    <tr>\n",
       "      <th>2</th>\n",
       "      <td>191.0</td>\n",
       "      <td>217.7</td>\n",
       "      <td>3</td>\n",
       "      <td>5200</td>\n",
       "      <td>1374</td>\n",
       "      <td>0</td>\n",
       "      <td>5.252274</td>\n",
       "      <td>5.383118</td>\n",
       "      <td>8.556414</td>\n",
       "      <td>7.225482</td>\n",
       "    </tr>\n",
       "    <tr>\n",
       "      <th>3</th>\n",
       "      <td>195.0</td>\n",
       "      <td>231.8</td>\n",
       "      <td>3</td>\n",
       "      <td>4600</td>\n",
       "      <td>1448</td>\n",
       "      <td>1</td>\n",
       "      <td>5.273000</td>\n",
       "      <td>5.445875</td>\n",
       "      <td>8.433811</td>\n",
       "      <td>7.277938</td>\n",
       "    </tr>\n",
       "    <tr>\n",
       "      <th>4</th>\n",
       "      <td>373.0</td>\n",
       "      <td>319.1</td>\n",
       "      <td>4</td>\n",
       "      <td>6095</td>\n",
       "      <td>2514</td>\n",
       "      <td>1</td>\n",
       "      <td>5.921578</td>\n",
       "      <td>5.765504</td>\n",
       "      <td>8.715224</td>\n",
       "      <td>7.829630</td>\n",
       "    </tr>\n",
       "  </tbody>\n",
       "</table>\n",
       "</div>"
      ],
      "text/plain": [
       "   Price  Assess  bdrm  lot_size  house_size  colonial    Lprice   Lassess  \\\n",
       "0  300.0   349.1     4      6126        2438         1  5.703783  5.855359   \n",
       "1  370.0   351.5     3      9903        2076         1  5.913503  5.862210   \n",
       "2  191.0   217.7     3      5200        1374         0  5.252274  5.383118   \n",
       "3  195.0   231.8     3      4600        1448         1  5.273000  5.445875   \n",
       "4  373.0   319.1     4      6095        2514         1  5.921578  5.765504   \n",
       "\n",
       "   llot_size  lhouse_size  \n",
       "0   8.720297     7.798934  \n",
       "1   9.200593     7.638198  \n",
       "2   8.556414     7.225482  \n",
       "3   8.433811     7.277938  \n",
       "4   8.715224     7.829630  "
      ]
     },
     "execution_count": 79,
     "metadata": {},
     "output_type": "execute_result"
    }
   ],
   "source": [
    "Hprice.rename(columns = {'Llotsize':'llot_size', 'Lsqrft':'lhouse_size',}, inplace=True)\n",
    "Hprice.head()"
   ]
  },
  {
   "cell_type": "code",
   "execution_count": 80,
   "metadata": {},
   "outputs": [
    {
     "data": {
      "text/html": [
       "<div>\n",
       "<style scoped>\n",
       "    .dataframe tbody tr th:only-of-type {\n",
       "        vertical-align: middle;\n",
       "    }\n",
       "\n",
       "    .dataframe tbody tr th {\n",
       "        vertical-align: top;\n",
       "    }\n",
       "\n",
       "    .dataframe thead th {\n",
       "        text-align: right;\n",
       "    }\n",
       "</style>\n",
       "<table border=\"1\" class=\"dataframe\">\n",
       "  <thead>\n",
       "    <tr style=\"text-align: right;\">\n",
       "      <th></th>\n",
       "      <th>Price</th>\n",
       "      <th>Assess</th>\n",
       "      <th>bdrm</th>\n",
       "      <th>lot_size</th>\n",
       "      <th>house_size</th>\n",
       "      <th>colonial</th>\n",
       "      <th>Lprice</th>\n",
       "      <th>Lassess</th>\n",
       "      <th>llot_size</th>\n",
       "      <th>lhouse_size</th>\n",
       "      <th>lbdrm</th>\n",
       "    </tr>\n",
       "  </thead>\n",
       "  <tbody>\n",
       "    <tr>\n",
       "      <th>0</th>\n",
       "      <td>300.0</td>\n",
       "      <td>349.1</td>\n",
       "      <td>4</td>\n",
       "      <td>6126</td>\n",
       "      <td>2438</td>\n",
       "      <td>1</td>\n",
       "      <td>5.703783</td>\n",
       "      <td>5.855359</td>\n",
       "      <td>8.720297</td>\n",
       "      <td>7.798934</td>\n",
       "      <td>1.386294</td>\n",
       "    </tr>\n",
       "    <tr>\n",
       "      <th>1</th>\n",
       "      <td>370.0</td>\n",
       "      <td>351.5</td>\n",
       "      <td>3</td>\n",
       "      <td>9903</td>\n",
       "      <td>2076</td>\n",
       "      <td>1</td>\n",
       "      <td>5.913503</td>\n",
       "      <td>5.862210</td>\n",
       "      <td>9.200593</td>\n",
       "      <td>7.638198</td>\n",
       "      <td>1.098612</td>\n",
       "    </tr>\n",
       "    <tr>\n",
       "      <th>2</th>\n",
       "      <td>191.0</td>\n",
       "      <td>217.7</td>\n",
       "      <td>3</td>\n",
       "      <td>5200</td>\n",
       "      <td>1374</td>\n",
       "      <td>0</td>\n",
       "      <td>5.252274</td>\n",
       "      <td>5.383118</td>\n",
       "      <td>8.556414</td>\n",
       "      <td>7.225482</td>\n",
       "      <td>1.098612</td>\n",
       "    </tr>\n",
       "    <tr>\n",
       "      <th>3</th>\n",
       "      <td>195.0</td>\n",
       "      <td>231.8</td>\n",
       "      <td>3</td>\n",
       "      <td>4600</td>\n",
       "      <td>1448</td>\n",
       "      <td>1</td>\n",
       "      <td>5.273000</td>\n",
       "      <td>5.445875</td>\n",
       "      <td>8.433811</td>\n",
       "      <td>7.277938</td>\n",
       "      <td>1.098612</td>\n",
       "    </tr>\n",
       "    <tr>\n",
       "      <th>4</th>\n",
       "      <td>373.0</td>\n",
       "      <td>319.1</td>\n",
       "      <td>4</td>\n",
       "      <td>6095</td>\n",
       "      <td>2514</td>\n",
       "      <td>1</td>\n",
       "      <td>5.921578</td>\n",
       "      <td>5.765504</td>\n",
       "      <td>8.715224</td>\n",
       "      <td>7.829630</td>\n",
       "      <td>1.386294</td>\n",
       "    </tr>\n",
       "  </tbody>\n",
       "</table>\n",
       "</div>"
      ],
      "text/plain": [
       "   Price  Assess  bdrm  lot_size  house_size  colonial    Lprice   Lassess  \\\n",
       "0  300.0   349.1     4      6126        2438         1  5.703783  5.855359   \n",
       "1  370.0   351.5     3      9903        2076         1  5.913503  5.862210   \n",
       "2  191.0   217.7     3      5200        1374         0  5.252274  5.383118   \n",
       "3  195.0   231.8     3      4600        1448         1  5.273000  5.445875   \n",
       "4  373.0   319.1     4      6095        2514         1  5.921578  5.765504   \n",
       "\n",
       "   llot_size  lhouse_size     lbdrm  \n",
       "0   8.720297     7.798934  1.386294  \n",
       "1   9.200593     7.638198  1.098612  \n",
       "2   8.556414     7.225482  1.098612  \n",
       "3   8.433811     7.277938  1.098612  \n",
       "4   8.715224     7.829630  1.386294  "
      ]
     },
     "execution_count": 80,
     "metadata": {},
     "output_type": "execute_result"
    }
   ],
   "source": [
    "Hprice['lbdrm'] = np.log(Hprice['bdrm'])\n",
    "Hprice.head()"
   ]
  },
  {
   "cell_type": "markdown",
   "metadata": {
    "id": "6rc4a3GBa1CJ"
   },
   "source": [
    "**Statistic Description Table**"
   ]
  },
  {
   "cell_type": "code",
   "execution_count": 81,
   "metadata": {
    "colab": {
     "base_uri": "https://localhost:8080/",
     "height": 317
    },
    "id": "iN9O4yI6av9M",
    "outputId": "f0273cb0-632b-4fe0-e5c2-2c5996fa7b19"
   },
   "outputs": [
    {
     "data": {
      "text/html": [
       "<div>\n",
       "<style scoped>\n",
       "    .dataframe tbody tr th:only-of-type {\n",
       "        vertical-align: middle;\n",
       "    }\n",
       "\n",
       "    .dataframe tbody tr th {\n",
       "        vertical-align: top;\n",
       "    }\n",
       "\n",
       "    .dataframe thead th {\n",
       "        text-align: right;\n",
       "    }\n",
       "</style>\n",
       "<table border=\"1\" class=\"dataframe\">\n",
       "  <thead>\n",
       "    <tr style=\"text-align: right;\">\n",
       "      <th></th>\n",
       "      <th>Price</th>\n",
       "      <th>Assess</th>\n",
       "      <th>bdrm</th>\n",
       "      <th>lot_size</th>\n",
       "      <th>house_size</th>\n",
       "      <th>colonial</th>\n",
       "      <th>Lprice</th>\n",
       "      <th>Lassess</th>\n",
       "      <th>llot_size</th>\n",
       "      <th>lhouse_size</th>\n",
       "      <th>lbdrm</th>\n",
       "    </tr>\n",
       "  </thead>\n",
       "  <tbody>\n",
       "    <tr>\n",
       "      <th>count</th>\n",
       "      <td>88.000000</td>\n",
       "      <td>88.000000</td>\n",
       "      <td>88.000000</td>\n",
       "      <td>88.000000</td>\n",
       "      <td>88.000000</td>\n",
       "      <td>88.000000</td>\n",
       "      <td>88.000000</td>\n",
       "      <td>88.000000</td>\n",
       "      <td>88.000000</td>\n",
       "      <td>88.000000</td>\n",
       "      <td>88.000000</td>\n",
       "    </tr>\n",
       "    <tr>\n",
       "      <th>mean</th>\n",
       "      <td>293.546034</td>\n",
       "      <td>315.736364</td>\n",
       "      <td>3.568182</td>\n",
       "      <td>9019.863636</td>\n",
       "      <td>2013.693182</td>\n",
       "      <td>0.693182</td>\n",
       "      <td>5.633180</td>\n",
       "      <td>5.717994</td>\n",
       "      <td>8.905105</td>\n",
       "      <td>7.572610</td>\n",
       "      <td>1.246202</td>\n",
       "    </tr>\n",
       "    <tr>\n",
       "      <th>std</th>\n",
       "      <td>102.713445</td>\n",
       "      <td>95.314437</td>\n",
       "      <td>0.841393</td>\n",
       "      <td>10174.150414</td>\n",
       "      <td>577.191583</td>\n",
       "      <td>0.463816</td>\n",
       "      <td>0.303573</td>\n",
       "      <td>0.262113</td>\n",
       "      <td>0.544060</td>\n",
       "      <td>0.258688</td>\n",
       "      <td>0.227349</td>\n",
       "    </tr>\n",
       "    <tr>\n",
       "      <th>min</th>\n",
       "      <td>111.000000</td>\n",
       "      <td>198.700000</td>\n",
       "      <td>2.000000</td>\n",
       "      <td>1000.000000</td>\n",
       "      <td>1171.000000</td>\n",
       "      <td>0.000000</td>\n",
       "      <td>4.709530</td>\n",
       "      <td>5.291796</td>\n",
       "      <td>6.907755</td>\n",
       "      <td>7.065613</td>\n",
       "      <td>0.693147</td>\n",
       "    </tr>\n",
       "    <tr>\n",
       "      <th>25%</th>\n",
       "      <td>230.000000</td>\n",
       "      <td>253.900000</td>\n",
       "      <td>3.000000</td>\n",
       "      <td>5732.750000</td>\n",
       "      <td>1660.500000</td>\n",
       "      <td>0.000000</td>\n",
       "      <td>5.438079</td>\n",
       "      <td>5.536940</td>\n",
       "      <td>8.653908</td>\n",
       "      <td>7.414873</td>\n",
       "      <td>1.098612</td>\n",
       "    </tr>\n",
       "    <tr>\n",
       "      <th>50%</th>\n",
       "      <td>265.500000</td>\n",
       "      <td>290.200000</td>\n",
       "      <td>3.000000</td>\n",
       "      <td>6430.000000</td>\n",
       "      <td>1845.000000</td>\n",
       "      <td>1.000000</td>\n",
       "      <td>5.581613</td>\n",
       "      <td>5.670566</td>\n",
       "      <td>8.768719</td>\n",
       "      <td>7.520231</td>\n",
       "      <td>1.098612</td>\n",
       "    </tr>\n",
       "    <tr>\n",
       "      <th>75%</th>\n",
       "      <td>326.250000</td>\n",
       "      <td>352.125000</td>\n",
       "      <td>4.000000</td>\n",
       "      <td>8583.250000</td>\n",
       "      <td>2227.000000</td>\n",
       "      <td>1.000000</td>\n",
       "      <td>5.787642</td>\n",
       "      <td>5.863982</td>\n",
       "      <td>9.057567</td>\n",
       "      <td>7.708266</td>\n",
       "      <td>1.386294</td>\n",
       "    </tr>\n",
       "    <tr>\n",
       "      <th>max</th>\n",
       "      <td>725.000000</td>\n",
       "      <td>708.600000</td>\n",
       "      <td>7.000000</td>\n",
       "      <td>92681.000000</td>\n",
       "      <td>3880.000000</td>\n",
       "      <td>1.000000</td>\n",
       "      <td>6.586172</td>\n",
       "      <td>6.563291</td>\n",
       "      <td>11.436920</td>\n",
       "      <td>8.263591</td>\n",
       "      <td>1.945910</td>\n",
       "    </tr>\n",
       "  </tbody>\n",
       "</table>\n",
       "</div>"
      ],
      "text/plain": [
       "            Price      Assess       bdrm      lot_size   house_size  \\\n",
       "count   88.000000   88.000000  88.000000     88.000000    88.000000   \n",
       "mean   293.546034  315.736364   3.568182   9019.863636  2013.693182   \n",
       "std    102.713445   95.314437   0.841393  10174.150414   577.191583   \n",
       "min    111.000000  198.700000   2.000000   1000.000000  1171.000000   \n",
       "25%    230.000000  253.900000   3.000000   5732.750000  1660.500000   \n",
       "50%    265.500000  290.200000   3.000000   6430.000000  1845.000000   \n",
       "75%    326.250000  352.125000   4.000000   8583.250000  2227.000000   \n",
       "max    725.000000  708.600000   7.000000  92681.000000  3880.000000   \n",
       "\n",
       "        colonial     Lprice    Lassess  llot_size  lhouse_size      lbdrm  \n",
       "count  88.000000  88.000000  88.000000  88.000000    88.000000  88.000000  \n",
       "mean    0.693182   5.633180   5.717994   8.905105     7.572610   1.246202  \n",
       "std     0.463816   0.303573   0.262113   0.544060     0.258688   0.227349  \n",
       "min     0.000000   4.709530   5.291796   6.907755     7.065613   0.693147  \n",
       "25%     0.000000   5.438079   5.536940   8.653908     7.414873   1.098612  \n",
       "50%     1.000000   5.581613   5.670566   8.768719     7.520231   1.098612  \n",
       "75%     1.000000   5.787642   5.863982   9.057567     7.708266   1.386294  \n",
       "max     1.000000   6.586172   6.563291  11.436920     8.263591   1.945910  "
      ]
     },
     "execution_count": 81,
     "metadata": {},
     "output_type": "execute_result"
    }
   ],
   "source": [
    "Hprice.describe()"
   ]
  },
  {
   "cell_type": "markdown",
   "metadata": {
    "id": "1G8I5J6RXsUK"
   },
   "source": [
    "**Regression Analysis**"
   ]
  },
  {
   "cell_type": "code",
   "execution_count": 82,
   "metadata": {
    "id": "MyVaUHCvcZBr"
   },
   "outputs": [],
   "source": [
    "#IMPORT TOOLS\n",
    "import patsy                           # provides a syntax for specifying models  \n",
    "import statsmodels.api as sm           # provides statistical models like ols, gmm, anova, etc...\n",
    "import statsmodels.formula.api as smf  # provides a way to directly spec models from formulas"
   ]
  },
  {
   "cell_type": "code",
   "execution_count": 83,
   "metadata": {
    "colab": {
     "base_uri": "https://localhost:8080/",
     "height": 456
    },
    "id": "MbMLn3XQcZBs",
    "outputId": "8279a387-d2e9-4b75-88b3-eefa7de6064e"
   },
   "outputs": [
    {
     "data": {
      "text/html": [
       "<div>\n",
       "<style scoped>\n",
       "    .dataframe tbody tr th:only-of-type {\n",
       "        vertical-align: middle;\n",
       "    }\n",
       "\n",
       "    .dataframe tbody tr th {\n",
       "        vertical-align: top;\n",
       "    }\n",
       "\n",
       "    .dataframe thead th {\n",
       "        text-align: right;\n",
       "    }\n",
       "</style>\n",
       "<table border=\"1\" class=\"dataframe\">\n",
       "  <thead>\n",
       "    <tr style=\"text-align: right;\">\n",
       "      <th></th>\n",
       "      <th>Price</th>\n",
       "      <th>Assess</th>\n",
       "      <th>bdrm</th>\n",
       "      <th>lot_size</th>\n",
       "      <th>house_size</th>\n",
       "      <th>colonial</th>\n",
       "      <th>Lprice</th>\n",
       "      <th>Lassess</th>\n",
       "      <th>llot_size</th>\n",
       "      <th>lhouse_size</th>\n",
       "      <th>lbdrm</th>\n",
       "    </tr>\n",
       "  </thead>\n",
       "  <tbody>\n",
       "    <tr>\n",
       "      <th>0</th>\n",
       "      <td>300.0</td>\n",
       "      <td>349.1</td>\n",
       "      <td>4</td>\n",
       "      <td>6126</td>\n",
       "      <td>2438</td>\n",
       "      <td>1</td>\n",
       "      <td>5.703783</td>\n",
       "      <td>5.855359</td>\n",
       "      <td>8.720297</td>\n",
       "      <td>7.798934</td>\n",
       "      <td>1.386294</td>\n",
       "    </tr>\n",
       "    <tr>\n",
       "      <th>1</th>\n",
       "      <td>370.0</td>\n",
       "      <td>351.5</td>\n",
       "      <td>3</td>\n",
       "      <td>9903</td>\n",
       "      <td>2076</td>\n",
       "      <td>1</td>\n",
       "      <td>5.913503</td>\n",
       "      <td>5.862210</td>\n",
       "      <td>9.200593</td>\n",
       "      <td>7.638198</td>\n",
       "      <td>1.098612</td>\n",
       "    </tr>\n",
       "    <tr>\n",
       "      <th>2</th>\n",
       "      <td>191.0</td>\n",
       "      <td>217.7</td>\n",
       "      <td>3</td>\n",
       "      <td>5200</td>\n",
       "      <td>1374</td>\n",
       "      <td>0</td>\n",
       "      <td>5.252274</td>\n",
       "      <td>5.383118</td>\n",
       "      <td>8.556414</td>\n",
       "      <td>7.225482</td>\n",
       "      <td>1.098612</td>\n",
       "    </tr>\n",
       "    <tr>\n",
       "      <th>3</th>\n",
       "      <td>195.0</td>\n",
       "      <td>231.8</td>\n",
       "      <td>3</td>\n",
       "      <td>4600</td>\n",
       "      <td>1448</td>\n",
       "      <td>1</td>\n",
       "      <td>5.273000</td>\n",
       "      <td>5.445875</td>\n",
       "      <td>8.433811</td>\n",
       "      <td>7.277938</td>\n",
       "      <td>1.098612</td>\n",
       "    </tr>\n",
       "    <tr>\n",
       "      <th>4</th>\n",
       "      <td>373.0</td>\n",
       "      <td>319.1</td>\n",
       "      <td>4</td>\n",
       "      <td>6095</td>\n",
       "      <td>2514</td>\n",
       "      <td>1</td>\n",
       "      <td>5.921578</td>\n",
       "      <td>5.765504</td>\n",
       "      <td>8.715224</td>\n",
       "      <td>7.829630</td>\n",
       "      <td>1.386294</td>\n",
       "    </tr>\n",
       "    <tr>\n",
       "      <th>...</th>\n",
       "      <td>...</td>\n",
       "      <td>...</td>\n",
       "      <td>...</td>\n",
       "      <td>...</td>\n",
       "      <td>...</td>\n",
       "      <td>...</td>\n",
       "      <td>...</td>\n",
       "      <td>...</td>\n",
       "      <td>...</td>\n",
       "      <td>...</td>\n",
       "      <td>...</td>\n",
       "    </tr>\n",
       "    <tr>\n",
       "      <th>83</th>\n",
       "      <td>295.0</td>\n",
       "      <td>318.3</td>\n",
       "      <td>3</td>\n",
       "      <td>6056</td>\n",
       "      <td>1837</td>\n",
       "      <td>1</td>\n",
       "      <td>5.686975</td>\n",
       "      <td>5.762994</td>\n",
       "      <td>8.708805</td>\n",
       "      <td>7.515889</td>\n",
       "      <td>1.098612</td>\n",
       "    </tr>\n",
       "    <tr>\n",
       "      <th>84</th>\n",
       "      <td>236.0</td>\n",
       "      <td>259.4</td>\n",
       "      <td>3</td>\n",
       "      <td>5828</td>\n",
       "      <td>1715</td>\n",
       "      <td>0</td>\n",
       "      <td>5.463832</td>\n",
       "      <td>5.558371</td>\n",
       "      <td>8.670429</td>\n",
       "      <td>7.447168</td>\n",
       "      <td>1.098612</td>\n",
       "    </tr>\n",
       "    <tr>\n",
       "      <th>85</th>\n",
       "      <td>202.5</td>\n",
       "      <td>258.1</td>\n",
       "      <td>3</td>\n",
       "      <td>6341</td>\n",
       "      <td>1574</td>\n",
       "      <td>0</td>\n",
       "      <td>5.310740</td>\n",
       "      <td>5.553347</td>\n",
       "      <td>8.754792</td>\n",
       "      <td>7.361375</td>\n",
       "      <td>1.098612</td>\n",
       "    </tr>\n",
       "    <tr>\n",
       "      <th>86</th>\n",
       "      <td>219.0</td>\n",
       "      <td>232.0</td>\n",
       "      <td>2</td>\n",
       "      <td>6362</td>\n",
       "      <td>1185</td>\n",
       "      <td>0</td>\n",
       "      <td>5.389072</td>\n",
       "      <td>5.446737</td>\n",
       "      <td>8.758098</td>\n",
       "      <td>7.077498</td>\n",
       "      <td>0.693147</td>\n",
       "    </tr>\n",
       "    <tr>\n",
       "      <th>87</th>\n",
       "      <td>242.0</td>\n",
       "      <td>252.0</td>\n",
       "      <td>4</td>\n",
       "      <td>4950</td>\n",
       "      <td>1774</td>\n",
       "      <td>1</td>\n",
       "      <td>5.488938</td>\n",
       "      <td>5.529429</td>\n",
       "      <td>8.507143</td>\n",
       "      <td>7.480992</td>\n",
       "      <td>1.386294</td>\n",
       "    </tr>\n",
       "  </tbody>\n",
       "</table>\n",
       "<p>88 rows × 11 columns</p>\n",
       "</div>"
      ],
      "text/plain": [
       "    Price  Assess  bdrm  lot_size  house_size  colonial    Lprice   Lassess  \\\n",
       "0   300.0   349.1     4      6126        2438         1  5.703783  5.855359   \n",
       "1   370.0   351.5     3      9903        2076         1  5.913503  5.862210   \n",
       "2   191.0   217.7     3      5200        1374         0  5.252274  5.383118   \n",
       "3   195.0   231.8     3      4600        1448         1  5.273000  5.445875   \n",
       "4   373.0   319.1     4      6095        2514         1  5.921578  5.765504   \n",
       "..    ...     ...   ...       ...         ...       ...       ...       ...   \n",
       "83  295.0   318.3     3      6056        1837         1  5.686975  5.762994   \n",
       "84  236.0   259.4     3      5828        1715         0  5.463832  5.558371   \n",
       "85  202.5   258.1     3      6341        1574         0  5.310740  5.553347   \n",
       "86  219.0   232.0     2      6362        1185         0  5.389072  5.446737   \n",
       "87  242.0   252.0     4      4950        1774         1  5.488938  5.529429   \n",
       "\n",
       "    llot_size  lhouse_size     lbdrm  \n",
       "0    8.720297     7.798934  1.386294  \n",
       "1    9.200593     7.638198  1.098612  \n",
       "2    8.556414     7.225482  1.098612  \n",
       "3    8.433811     7.277938  1.098612  \n",
       "4    8.715224     7.829630  1.386294  \n",
       "..        ...          ...       ...  \n",
       "83   8.708805     7.515889  1.098612  \n",
       "84   8.670429     7.447168  1.098612  \n",
       "85   8.754792     7.361375  1.098612  \n",
       "86   8.758098     7.077498  0.693147  \n",
       "87   8.507143     7.480992  1.386294  \n",
       "\n",
       "[88 rows x 11 columns]"
      ]
     },
     "execution_count": 83,
     "metadata": {},
     "output_type": "execute_result"
    }
   ],
   "source": [
    "Hprice"
   ]
  },
  {
   "cell_type": "markdown",
   "metadata": {
    "id": "kRzNp8crXzEQ"
   },
   "source": [
    "**FIRST MODEL - Lassess ~ llot size**"
   ]
  },
  {
   "cell_type": "code",
   "execution_count": 84,
   "metadata": {
    "colab": {
     "base_uri": "https://localhost:8080/"
    },
    "id": "JnfWeBhTcZBs",
    "outputId": "c572e8a4-c802-4058-8e05-6ab8f0f969e9"
   },
   "outputs": [
    {
     "name": "stdout",
     "output_type": "stream",
     "text": [
      "                            OLS Regression Results                            \n",
      "==============================================================================\n",
      "Dep. Variable:                Lassess   R-squared:                       0.311\n",
      "Model:                            OLS   Adj. R-squared:                  0.303\n",
      "Method:                 Least Squares   F-statistic:                     38.83\n",
      "Date:                Tue, 25 May 2021   Prob (F-statistic):           1.65e-08\n",
      "Time:                        17:01:31   Log-Likelihood:                 9.8614\n",
      "No. Observations:                  88   AIC:                            -15.72\n",
      "Df Residuals:                      86   BIC:                            -10.77\n",
      "Df Model:                           1                                         \n",
      "Covariance Type:            nonrobust                                         \n",
      "==============================================================================\n",
      "                 coef    std err          t      P>|t|      [0.025      0.975]\n",
      "------------------------------------------------------------------------------\n",
      "Intercept      3.3252      0.385      8.644      0.000       2.560       4.090\n",
      "llot_size      0.2687      0.043      6.231      0.000       0.183       0.354\n",
      "==============================================================================\n",
      "Omnibus:                        2.956   Durbin-Watson:                   1.543\n",
      "Prob(Omnibus):                  0.228   Jarque-Bera (JB):                2.682\n",
      "Skew:                           0.135   Prob(JB):                        0.262\n",
      "Kurtosis:                       3.811   Cond. No.                         149.\n",
      "==============================================================================\n",
      "\n",
      "Notes:\n",
      "[1] Standard Errors assume that the covariance matrix of the errors is correctly specified.\n"
     ]
    }
   ],
   "source": [
    "result1 = smf.ols('Lassess ~ llot_size', data=Hprice).fit()\n",
    "print(result1.summary())"
   ]
  },
  {
   "cell_type": "markdown",
   "metadata": {
    "id": "ACfACWlrX9KK"
   },
   "source": [
    "**Model 1 Intepretation**\n",
    "\n",
    "---\n",
    "\n",
    "\n",
    "\n",
    "\n",
    "> ceterus paribus, 1% increase in lot size will increase the Assess by 26.87%  \n",
    "\n",
    "\n"
   ]
  },
  {
   "cell_type": "markdown",
   "metadata": {
    "id": "0BS_TFGuYMbi"
   },
   "source": [
    "**SECOND MODEL - Lassess ~ llotsize + lbdrm**"
   ]
  },
  {
   "cell_type": "code",
   "execution_count": 85,
   "metadata": {
    "colab": {
     "base_uri": "https://localhost:8080/"
    },
    "id": "otBPB3eLcZBt",
    "outputId": "7f63acb6-7586-4153-9cb9-f2793af52382"
   },
   "outputs": [
    {
     "name": "stdout",
     "output_type": "stream",
     "text": [
      "                            OLS Regression Results                            \n",
      "==============================================================================\n",
      "Dep. Variable:                Lassess   R-squared:                       0.440\n",
      "Model:                            OLS   Adj. R-squared:                  0.426\n",
      "Method:                 Least Squares   F-statistic:                     33.34\n",
      "Date:                Tue, 25 May 2021   Prob (F-statistic):           2.04e-11\n",
      "Time:                        17:01:31   Log-Likelihood:                 18.950\n",
      "No. Observations:                  88   AIC:                            -31.90\n",
      "Df Residuals:                      85   BIC:                            -24.47\n",
      "Df Model:                           2                                         \n",
      "Covariance Type:            nonrobust                                         \n",
      "==============================================================================\n",
      "                 coef    std err          t      P>|t|      [0.025      0.975]\n",
      "------------------------------------------------------------------------------\n",
      "Intercept      3.0169      0.356      8.477      0.000       2.309       3.724\n",
      "llot_size      0.2449      0.039      6.203      0.000       0.166       0.323\n",
      "lbdrm          0.4173      0.094      4.416      0.000       0.229       0.605\n",
      "==============================================================================\n",
      "Omnibus:                        6.468   Durbin-Watson:                   1.674\n",
      "Prob(Omnibus):                  0.039   Jarque-Bera (JB):                9.845\n",
      "Skew:                          -0.190   Prob(JB):                      0.00728\n",
      "Kurtosis:                       4.594   Cond. No.                         153.\n",
      "==============================================================================\n",
      "\n",
      "Notes:\n",
      "[1] Standard Errors assume that the covariance matrix of the errors is correctly specified.\n"
     ]
    }
   ],
   "source": [
    "result2 = smf.ols('Lassess ~ llot_size + lbdrm', data=Hprice).fit()\n",
    "print(result2.summary())"
   ]
  },
  {
   "cell_type": "markdown",
   "metadata": {
    "id": "PVRS8f0UYkNC"
   },
   "source": [
    "**Model 2 Intepretation**\n",
    "\n",
    "---\n",
    "\n",
    "\n",
    "\n",
    "\n",
    "> ceterus paribus, 1% increase in the number of bedroom will increase the Assess by 41.73% \n",
    "\n",
    "\n",
    "> ceterus paribus, 1% increase in lot size will increase the Assess by 24.49% \n",
    "\n",
    "\n"
   ]
  },
  {
   "cell_type": "markdown",
   "metadata": {
    "id": "Sr333tnNYp_d"
   },
   "source": [
    "**THIRD MODEL - Lassess ~ llotsize + lhouse size + lbedroom count**"
   ]
  },
  {
   "cell_type": "code",
   "execution_count": 86,
   "metadata": {
    "id": "Ckh0x0JJcZBu"
   },
   "outputs": [
    {
     "name": "stdout",
     "output_type": "stream",
     "text": [
      "                            OLS Regression Results                            \n",
      "==============================================================================\n",
      "Dep. Variable:                Lassess   R-squared:                       0.840\n",
      "Model:                            OLS   Adj. R-squared:                  0.834\n",
      "Method:                 Least Squares   F-statistic:                     146.9\n",
      "Date:                Tue, 25 May 2021   Prob (F-statistic):           2.61e-33\n",
      "Time:                        17:01:32   Log-Likelihood:                 74.069\n",
      "No. Observations:                  88   AIC:                            -140.1\n",
      "Df Residuals:                      84   BIC:                            -130.2\n",
      "Df Model:                           3                                         \n",
      "Covariance Type:            nonrobust                                         \n",
      "===============================================================================\n",
      "                  coef    std err          t      P>|t|      [0.025      0.975]\n",
      "-------------------------------------------------------------------------------\n",
      "Intercept      -1.5417      0.368     -4.187      0.000      -2.274      -0.809\n",
      "llot_size       0.1539      0.022      6.948      0.000       0.110       0.198\n",
      "lhouse_size     0.7791      0.054     14.491      0.000       0.672       0.886\n",
      "lbdrm          -0.0082      0.059     -0.141      0.889      -0.125       0.108\n",
      "==============================================================================\n",
      "Omnibus:                        2.715   Durbin-Watson:                   1.659\n",
      "Prob(Omnibus):                  0.257   Jarque-Bera (JB):                2.279\n",
      "Skew:                          -0.391   Prob(JB):                        0.320\n",
      "Kurtosis:                       3.092   Cond. No.                         386.\n",
      "==============================================================================\n",
      "\n",
      "Notes:\n",
      "[1] Standard Errors assume that the covariance matrix of the errors is correctly specified.\n"
     ]
    }
   ],
   "source": [
    "result3 = smf.ols('Lassess ~ llot_size + lhouse_size + lbdrm', data=Hprice).fit()\n",
    "print(result3.summary())"
   ]
  },
  {
   "cell_type": "markdown",
   "metadata": {
    "id": "0sXeAtvZY2zP"
   },
   "source": [
    "**Model 3 Intepretation**\n",
    "\n",
    "---\n",
    "\n",
    "\n",
    "\n",
    "\n",
    "> ceterus paribus, 1% increase in the house square will increase the Assess by 77.91%\n",
    "\n",
    "> ceterus paribus, 1% increase in the number of bedroom will decrease the Assess by 0.82%. However it is not significant\n",
    "\n",
    "> ceterus paribus, 1% increase in lot size will increase the Assess by 15.39%"
   ]
  },
  {
   "cell_type": "markdown",
   "metadata": {
    "id": "8zB1TDWKZE3n"
   },
   "source": [
    "**FOURTH MODEL - Lassess ~ llotsize + lhouse size + lbedroom count + colonial**"
   ]
  },
  {
   "cell_type": "code",
   "execution_count": 87,
   "metadata": {
    "colab": {
     "base_uri": "https://localhost:8080/"
    },
    "id": "4opcOPtqcZBv",
    "outputId": "942a3be2-6ae3-4b25-efd1-5e9130ac152a"
   },
   "outputs": [
    {
     "name": "stdout",
     "output_type": "stream",
     "text": [
      "                            OLS Regression Results                            \n",
      "==============================================================================\n",
      "Dep. Variable:                Lassess   R-squared:                       0.840\n",
      "Model:                            OLS   Adj. R-squared:                  0.833\n",
      "Method:                 Least Squares   F-statistic:                     109.2\n",
      "Date:                Tue, 25 May 2021   Prob (F-statistic):           3.13e-32\n",
      "Time:                        17:01:33   Log-Likelihood:                 74.174\n",
      "No. Observations:                  88   AIC:                            -138.3\n",
      "Df Residuals:                      83   BIC:                            -126.0\n",
      "Df Model:                           4                                         \n",
      "Covariance Type:            nonrobust                                         \n",
      "===============================================================================\n",
      "                  coef    std err          t      P>|t|      [0.025      0.975]\n",
      "-------------------------------------------------------------------------------\n",
      "Intercept      -1.5521      0.371     -4.187      0.000      -2.290      -0.815\n",
      "llot_size       0.1537      0.022      6.907      0.000       0.109       0.198\n",
      "lhouse_size     0.7811      0.054     14.408      0.000       0.673       0.889\n",
      "lbdrm          -0.0174      0.062     -0.279      0.781      -0.142       0.107\n",
      "colonial        0.0117      0.026      0.445      0.658      -0.041       0.064\n",
      "==============================================================================\n",
      "Omnibus:                        2.863   Durbin-Watson:                   1.656\n",
      "Prob(Omnibus):                  0.239   Jarque-Bera (JB):                2.427\n",
      "Skew:                          -0.404   Prob(JB):                        0.297\n",
      "Kurtosis:                       3.090   Cond. No.                         387.\n",
      "==============================================================================\n",
      "\n",
      "Notes:\n",
      "[1] Standard Errors assume that the covariance matrix of the errors is correctly specified.\n"
     ]
    }
   ],
   "source": [
    "result4 = smf.ols('Lassess ~ llot_size + lhouse_size + lbdrm + colonial', data=Hprice).fit()\n",
    "print(result4.summary())"
   ]
  },
  {
   "cell_type": "markdown",
   "metadata": {
    "id": "KC7Ht8yWZU3w"
   },
   "source": [
    "**Model 4 Intepretation**\n",
    "\n",
    "---\n",
    "\n",
    "\n",
    "\n",
    "\n",
    "> ceterus paribus, 1% increase in the colonial will increase the Assess by 1.17%. However it is not significant\n",
    "\n",
    "> ceterus paribus, 1% increase in the house square will increase the Assess by 78.11%.\n",
    "\n",
    "> ceterus paribus, 1% increase in the number of bedroom will decrease the Assess by 1.74%. However, it is not significant\n",
    "\n",
    "> ceterus paribus, 1% increase in the lot size will increase the Assess by 15.37%\n",
    "\n",
    "\n",
    "\n",
    "\n",
    "\n",
    "\n"
   ]
  },
  {
   "cell_type": "markdown",
   "metadata": {
    "id": "MoK8EsH_ZY4G"
   },
   "source": [
    "Now lets take a look at only the Parameters, Intercepts, Confidence Intervals, and R-squared"
   ]
  },
  {
   "cell_type": "code",
   "execution_count": 88,
   "metadata": {
    "colab": {
     "base_uri": "https://localhost:8080/"
    },
    "id": "G5uETCzHcZBx",
    "outputId": "221d7f51-1498-4348-c18e-22afb4f78f1e"
   },
   "outputs": [
    {
     "name": "stdout",
     "output_type": "stream",
     "text": [
      "The parameters are: \n",
      " Intercept     -1.552126\n",
      "llot_size      0.153689\n",
      "lhouse_size    0.781113\n",
      "lbdrm         -0.017418\n",
      "colonial       0.011745\n",
      "dtype: float64 \n",
      "\n",
      "The confidence intervals are:\n",
      "                     0         1\n",
      "Intercept   -2.289509 -0.814743\n",
      "llot_size    0.109431  0.197948\n",
      "lhouse_size  0.673286  0.888940\n",
      "lbdrm       -0.141668  0.106832\n",
      "colonial    -0.040790  0.064281 \n",
      "\n",
      "The r-squared is: 0.8402679056398391\n"
     ]
    }
   ],
   "source": [
    "print('The parameters are: \\n', result4.params, '\\n')\n",
    "print('The confidence intervals are:\\n', result4.conf_int(), '\\n')\n",
    "print('The r-squared is:', result4.rsquared)"
   ]
  },
  {
   "cell_type": "markdown",
   "metadata": {
    "id": "dBfkDf7CZh1g"
   },
   "source": [
    "**CONCLUSION**\n",
    "\n",
    "---\n",
    "\n",
    "\n",
    "\n",
    "> When the model is controled by house square, colonial, and bedroom count, there is still a significant realtion between assess and the lot size. Therefore we can say that the lot size contribute a significant increase in the house's assessd value by 15.37%\n",
    "\n",
    "> Another noticable significant variable is the house square which will increase the house's assessed value by 78.11%\n",
    "\n",
    ">The model has no multicollinearity.\n",
    "\n",
    "\n",
    "> However there are some limitations in our analysis due to the lack of context of the variable and the size of our data has too little variables which might potentially create biased results.\n",
    "\n",
    "\n",
    "\n",
    "\n",
    "\n"
   ]
  },
  {
   "cell_type": "markdown",
   "metadata": {
    "id": "RnWFJqT6ZqU8"
   },
   "source": [
    "**TRANSFORMING THE DATA**"
   ]
  },
  {
   "cell_type": "markdown",
   "metadata": {
    "id": "d8s0A35mZwhK"
   },
   "source": [
    "Create a scatter plot of Assess and lot size"
   ]
  },
  {
   "cell_type": "code",
   "execution_count": 89,
   "metadata": {
    "colab": {
     "base_uri": "https://localhost:8080/",
     "height": 414
    },
    "id": "3x4T6oRRcZB0",
    "outputId": "3845292e-7eea-4d54-a4b5-ea2987936984"
   },
   "outputs": [
    {
     "data": {
      "image/png": "[encoded data removed]",
      "text/plain": [
       "<Figure size 720x432 with 1 Axes>"
      ]
     },
     "metadata": {
      "needs_background": "light"
     },
     "output_type": "display_data"
    }
   ],
   "source": [
    "fig, ax = plt.subplots(figsize=(10,6))\n",
    "\n",
    "ax.scatter(Hprice['lot_size'], Hprice['Assess'], marker='o', alpha = 0.5 )\n",
    "\n",
    "ax.set_xlabel('Lot Size in Square feet', fontsize=16)\n",
    "ax.set_ylabel('Assessed Value', fontsize=16)\n",
    "\n",
    "ax.spines['right'].set_visible(False)\n",
    "ax.spines['top'].set_visible(False)\n",
    "\n",
    "ax.tick_params(axis='x', rotation=90)\n",
    "ax.tick_params(axis='y', rotation=90)"
   ]
  },
  {
   "cell_type": "markdown",
   "metadata": {
    "id": "HKi7BvdQZ8qe"
   },
   "source": [
    "**Combine all the three models and display them side by side**"
   ]
  },
  {
   "cell_type": "code",
   "execution_count": 90,
   "metadata": {
    "colab": {
     "base_uri": "https://localhost:8080/"
    },
    "id": "BgLllmakcZB1",
    "outputId": "efc50222-65eb-4916-ee8f-0b1c091cff4e"
   },
   "outputs": [
    {
     "name": "stdout",
     "output_type": "stream",
     "text": [
      "Does the House Lot Size Affect Its Assessed Value?\n",
      "================================================\n",
      "               Model 1 Model 2 Model 3  model 4 \n",
      "------------------------------------------------\n",
      "Intercept      3.33*** 3.02*** -1.54*** -1.55***\n",
      "               (0.38)  (0.36)  (0.37)   (0.37)  \n",
      "colonial                                0.01    \n",
      "                                        (0.03)  \n",
      "lbdrm                  0.42*** -0.01    -0.02   \n",
      "                       (0.09)  (0.06)   (0.06)  \n",
      "lhouse_size                    0.78***  0.78*** \n",
      "                               (0.05)   (0.05)  \n",
      "llot_size      0.27*** 0.24*** 0.15***  0.15*** \n",
      "               (0.04)  (0.04)  (0.02)   (0.02)  \n",
      "R-squared      0.31    0.44    0.84     0.84    \n",
      "R-squared Adj. 0.30    0.43    0.83     0.83    \n",
      "================================================\n",
      "Standard errors in parentheses.\n",
      "* p<.1, ** p<.05, ***p<.01\n"
     ]
    }
   ],
   "source": [
    "from statsmodels.iolib.summary2 import summary_col #create regression table for your report\n",
    "\n",
    "table = summary_col(\n",
    "    [result1, result2, result3, result4], #results of the fitted models\n",
    "    model_names = ['Model 1', 'Model 2', 'Model 3', 'model 4'], #models fitted above\n",
    "    stars=True, #level of significance\n",
    "    regressor_order = ['Intercept', 'Assess', 'Assess', 'bdrm', 'house_size', 'colonial'], #order of explanatory vars in the table\n",
    "    float_format='%0.2f', \n",
    "    drop_omitted = False #\n",
    "    )\n",
    "\n",
    "table.add_title('Does the House Lot Size Affect Its Assessed Value?')\n",
    "print(table.as_text())\n",
    "\n",
    "# we use 'w' to 'write'.\n",
    "fout = open('table1.txt', 'w')\n",
    "fout.write(table.as_text()) #can export as text, latex or html\n",
    "fout.close()"
   ]
  },
  {
   "cell_type": "markdown",
   "metadata": {
    "id": "45YHrikoaPai"
   },
   "source": [
    "**Residual Plot of all the results**"
   ]
  },
  {
   "cell_type": "code",
   "execution_count": 91,
   "metadata": {
    "colab": {
     "base_uri": "https://localhost:8080/",
     "height": 265
    },
    "id": "SIpMweFpcZB2",
    "outputId": "5a0291d6-3bce-4ea1-f7df-a138202cbed0"
   },
   "outputs": [
    {
     "data": {
      "image/png": "[encoded data removed]",
      "text/plain": [
       "<Figure size 432x288 with 1 Axes>"
      ]
     },
     "metadata": {
      "needs_background": "light"
     },
     "output_type": "display_data"
    }
   ],
   "source": [
    "resid1=result1.resid.plot()"
   ]
  },
  {
   "cell_type": "code",
   "execution_count": 92,
   "metadata": {
    "colab": {
     "base_uri": "https://localhost:8080/",
     "height": 265
    },
    "id": "LxC2zreacZB3",
    "outputId": "7a0b3caa-d06a-4485-b0da-776420796228"
   },
   "outputs": [
    {
     "data": {
      "image/png": "[encoded data removed]",
      "text/plain": [
       "<Figure size 432x288 with 1 Axes>"
      ]
     },
     "metadata": {
      "needs_background": "light"
     },
     "output_type": "display_data"
    }
   ],
   "source": [
    "resid2=result2.resid.plot()"
   ]
  },
  {
   "cell_type": "code",
   "execution_count": 93,
   "metadata": {
    "colab": {
     "base_uri": "https://localhost:8080/",
     "height": 265
    },
    "id": "lup8wqZicZB3",
    "outputId": "e2d808c0-5e64-4a93-d2a3-869f4861fba8"
   },
   "outputs": [
    {
     "data": {
      "image/png": "[encoded data removed]",
      "text/plain": [
       "<Figure size 432x288 with 1 Axes>"
      ]
     },
     "metadata": {
      "needs_background": "light"
     },
     "output_type": "display_data"
    }
   ],
   "source": [
    "resid3=result3.resid.plot()"
   ]
  },
  {
   "cell_type": "code",
   "execution_count": 94,
   "metadata": {
    "colab": {
     "base_uri": "https://localhost:8080/",
     "height": 265
    },
    "id": "1BVuGWPTcZB4",
    "outputId": "11e97490-3baf-470b-8bd6-b5330ce588cc"
   },
   "outputs": [
    {
     "data": {
      "image/png": "[encoded data removed]",
      "text/plain": [
       "<Figure size 432x288 with 1 Axes>"
      ]
     },
     "metadata": {
      "needs_background": "light"
     },
     "output_type": "display_data"
    }
   ],
   "source": [
    "resid4=result4.resid.plot()"
   ]
  },
  {
   "cell_type": "markdown",
   "metadata": {},
   "source": [
    "***Pair Plot***"
   ]
  },
  {
   "cell_type": "code",
   "execution_count": 95,
   "metadata": {},
   "outputs": [
    {
     "data": {
      "text/plain": [
       "<seaborn.axisgrid.PairGrid at 0x11f83fd00>"
      ]
     },
     "execution_count": 95,
     "metadata": {},
     "output_type": "execute_result"
    },
    {
     "data": {
      "image/png": "[encoded data removed]",
      "text/plain": [
       "<Figure size 900x900 with 30 Axes>"
      ]
     },
     "metadata": {
      "needs_background": "light"
     },
     "output_type": "display_data"
    }
   ],
   "source": [
    "sns.pairplot(Hprice[['Assess','lot_size','house_size','bdrm','colonial']])"
   ]
  },
  {
   "cell_type": "markdown",
   "metadata": {},
   "source": [
    "**Correlation**"
   ]
  },
  {
   "cell_type": "code",
   "execution_count": 96,
   "metadata": {},
   "outputs": [
    {
     "data": {
      "image/png": "[encoded data removed]",
      "text/plain": [
       "<Figure size 720x432 with 1 Axes>"
      ]
     },
     "metadata": {
      "needs_background": "light"
     },
     "output_type": "display_data"
    }
   ],
   "source": [
    "fig, ax = plt.subplots(figsize=(10,6))\n",
    "\n",
    "ax.scatter(Hprice['llot_size'], Hprice['lhouse_size'], marker='o', alpha = 0.5 )\n",
    "\n",
    "ax.set_xlabel('lLot Size', fontsize=16)\n",
    "ax.set_ylabel('lhouse_size', fontsize=16)\n",
    "\n",
    "ax.spines['right'].set_visible(False)\n",
    "ax.spines['top'].set_visible(False)\n",
    "\n",
    "ax.tick_params(axis='x', rotation=90)\n",
    "ax.tick_params(axis='y', rotation=90)"
   ]
  },
  {
   "cell_type": "code",
   "execution_count": 97,
   "metadata": {},
   "outputs": [
    {
     "data": {
      "text/html": [
       "<div>\n",
       "<style scoped>\n",
       "    .dataframe tbody tr th:only-of-type {\n",
       "        vertical-align: middle;\n",
       "    }\n",
       "\n",
       "    .dataframe tbody tr th {\n",
       "        vertical-align: top;\n",
       "    }\n",
       "\n",
       "    .dataframe thead th {\n",
       "        text-align: right;\n",
       "    }\n",
       "</style>\n",
       "<table border=\"1\" class=\"dataframe\">\n",
       "  <thead>\n",
       "    <tr style=\"text-align: right;\">\n",
       "      <th></th>\n",
       "      <th>Price</th>\n",
       "      <th>Assess</th>\n",
       "      <th>bdrm</th>\n",
       "      <th>lot_size</th>\n",
       "      <th>house_size</th>\n",
       "      <th>colonial</th>\n",
       "      <th>Lprice</th>\n",
       "      <th>Lassess</th>\n",
       "      <th>llot_size</th>\n",
       "      <th>lhouse_size</th>\n",
       "      <th>lbdrm</th>\n",
       "    </tr>\n",
       "  </thead>\n",
       "  <tbody>\n",
       "    <tr>\n",
       "      <th>Price</th>\n",
       "      <td>1.000000</td>\n",
       "      <td>0.905279</td>\n",
       "      <td>0.508084</td>\n",
       "      <td>0.347124</td>\n",
       "      <td>0.787907</td>\n",
       "      <td>0.137946</td>\n",
       "      <td>0.966501</td>\n",
       "      <td>0.873144</td>\n",
       "      <td>0.528780</td>\n",
       "      <td>0.750303</td>\n",
       "      <td>0.471991</td>\n",
       "    </tr>\n",
       "    <tr>\n",
       "      <th>Assess</th>\n",
       "      <td>0.905279</td>\n",
       "      <td>1.000000</td>\n",
       "      <td>0.482474</td>\n",
       "      <td>0.328146</td>\n",
       "      <td>0.865634</td>\n",
       "      <td>0.082936</td>\n",
       "      <td>0.868240</td>\n",
       "      <td>0.982962</td>\n",
       "      <td>0.571665</td>\n",
       "      <td>0.847185</td>\n",
       "      <td>0.453211</td>\n",
       "    </tr>\n",
       "    <tr>\n",
       "      <th>bdrm</th>\n",
       "      <td>0.508084</td>\n",
       "      <td>0.482474</td>\n",
       "      <td>1.000000</td>\n",
       "      <td>0.136326</td>\n",
       "      <td>0.531474</td>\n",
       "      <td>0.304575</td>\n",
       "      <td>0.463490</td>\n",
       "      <td>0.458744</td>\n",
       "      <td>0.169490</td>\n",
       "      <td>0.519579</td>\n",
       "      <td>0.982808</td>\n",
       "    </tr>\n",
       "    <tr>\n",
       "      <th>lot_size</th>\n",
       "      <td>0.347124</td>\n",
       "      <td>0.328146</td>\n",
       "      <td>0.136326</td>\n",
       "      <td>1.000000</td>\n",
       "      <td>0.183842</td>\n",
       "      <td>0.014019</td>\n",
       "      <td>0.324554</td>\n",
       "      <td>0.309907</td>\n",
       "      <td>0.807855</td>\n",
       "      <td>0.164870</td>\n",
       "      <td>0.124348</td>\n",
       "    </tr>\n",
       "    <tr>\n",
       "      <th>house_size</th>\n",
       "      <td>0.787907</td>\n",
       "      <td>0.865634</td>\n",
       "      <td>0.531474</td>\n",
       "      <td>0.183842</td>\n",
       "      <td>1.000000</td>\n",
       "      <td>0.065421</td>\n",
       "      <td>0.764000</td>\n",
       "      <td>0.866214</td>\n",
       "      <td>0.338607</td>\n",
       "      <td>0.985816</td>\n",
       "      <td>0.513137</td>\n",
       "    </tr>\n",
       "    <tr>\n",
       "      <th>colonial</th>\n",
       "      <td>0.137946</td>\n",
       "      <td>0.082936</td>\n",
       "      <td>0.304575</td>\n",
       "      <td>0.014019</td>\n",
       "      <td>0.065421</td>\n",
       "      <td>1.000000</td>\n",
       "      <td>0.180516</td>\n",
       "      <td>0.109972</td>\n",
       "      <td>0.038642</td>\n",
       "      <td>0.106286</td>\n",
       "      <td>0.335969</td>\n",
       "    </tr>\n",
       "    <tr>\n",
       "      <th>Lprice</th>\n",
       "      <td>0.966501</td>\n",
       "      <td>0.868240</td>\n",
       "      <td>0.463490</td>\n",
       "      <td>0.324554</td>\n",
       "      <td>0.764000</td>\n",
       "      <td>0.180516</td>\n",
       "      <td>1.000000</td>\n",
       "      <td>0.875004</td>\n",
       "      <td>0.504143</td>\n",
       "      <td>0.743633</td>\n",
       "      <td>0.429469</td>\n",
       "    </tr>\n",
       "    <tr>\n",
       "      <th>Lassess</th>\n",
       "      <td>0.873144</td>\n",
       "      <td>0.982962</td>\n",
       "      <td>0.458744</td>\n",
       "      <td>0.309907</td>\n",
       "      <td>0.866214</td>\n",
       "      <td>0.109972</td>\n",
       "      <td>0.875004</td>\n",
       "      <td>1.000000</td>\n",
       "      <td>0.557734</td>\n",
       "      <td>0.864664</td>\n",
       "      <td>0.431270</td>\n",
       "    </tr>\n",
       "    <tr>\n",
       "      <th>llot_size</th>\n",
       "      <td>0.528780</td>\n",
       "      <td>0.571665</td>\n",
       "      <td>0.169490</td>\n",
       "      <td>0.807855</td>\n",
       "      <td>0.338607</td>\n",
       "      <td>0.038642</td>\n",
       "      <td>0.504143</td>\n",
       "      <td>0.557734</td>\n",
       "      <td>1.000000</td>\n",
       "      <td>0.311299</td>\n",
       "      <td>0.136342</td>\n",
       "    </tr>\n",
       "    <tr>\n",
       "      <th>lhouse_size</th>\n",
       "      <td>0.750303</td>\n",
       "      <td>0.847185</td>\n",
       "      <td>0.519579</td>\n",
       "      <td>0.164870</td>\n",
       "      <td>0.985816</td>\n",
       "      <td>0.106286</td>\n",
       "      <td>0.743633</td>\n",
       "      <td>0.864664</td>\n",
       "      <td>0.311299</td>\n",
       "      <td>1.000000</td>\n",
       "      <td>0.513552</td>\n",
       "    </tr>\n",
       "    <tr>\n",
       "      <th>lbdrm</th>\n",
       "      <td>0.471991</td>\n",
       "      <td>0.453211</td>\n",
       "      <td>0.982808</td>\n",
       "      <td>0.124348</td>\n",
       "      <td>0.513137</td>\n",
       "      <td>0.335969</td>\n",
       "      <td>0.429469</td>\n",
       "      <td>0.431270</td>\n",
       "      <td>0.136342</td>\n",
       "      <td>0.513552</td>\n",
       "      <td>1.000000</td>\n",
       "    </tr>\n",
       "  </tbody>\n",
       "</table>\n",
       "</div>"
      ],
      "text/plain": [
       "                Price    Assess      bdrm  lot_size  house_size  colonial  \\\n",
       "Price        1.000000  0.905279  0.508084  0.347124    0.787907  0.137946   \n",
       "Assess       0.905279  1.000000  0.482474  0.328146    0.865634  0.082936   \n",
       "bdrm         0.508084  0.482474  1.000000  0.136326    0.531474  0.304575   \n",
       "lot_size     0.347124  0.328146  0.136326  1.000000    0.183842  0.014019   \n",
       "house_size   0.787907  0.865634  0.531474  0.183842    1.000000  0.065421   \n",
       "colonial     0.137946  0.082936  0.304575  0.014019    0.065421  1.000000   \n",
       "Lprice       0.966501  0.868240  0.463490  0.324554    0.764000  0.180516   \n",
       "Lassess      0.873144  0.982962  0.458744  0.309907    0.866214  0.109972   \n",
       "llot_size    0.528780  0.571665  0.169490  0.807855    0.338607  0.038642   \n",
       "lhouse_size  0.750303  0.847185  0.519579  0.164870    0.985816  0.106286   \n",
       "lbdrm        0.471991  0.453211  0.982808  0.124348    0.513137  0.335969   \n",
       "\n",
       "               Lprice   Lassess  llot_size  lhouse_size     lbdrm  \n",
       "Price        0.966501  0.873144   0.528780     0.750303  0.471991  \n",
       "Assess       0.868240  0.982962   0.571665     0.847185  0.453211  \n",
       "bdrm         0.463490  0.458744   0.169490     0.519579  0.982808  \n",
       "lot_size     0.324554  0.309907   0.807855     0.164870  0.124348  \n",
       "house_size   0.764000  0.866214   0.338607     0.985816  0.513137  \n",
       "colonial     0.180516  0.109972   0.038642     0.106286  0.335969  \n",
       "Lprice       1.000000  0.875004   0.504143     0.743633  0.429469  \n",
       "Lassess      0.875004  1.000000   0.557734     0.864664  0.431270  \n",
       "llot_size    0.504143  0.557734   1.000000     0.311299  0.136342  \n",
       "lhouse_size  0.743633  0.864664   0.311299     1.000000  0.513552  \n",
       "lbdrm        0.429469  0.431270   0.136342     0.513552  1.000000  "
      ]
     },
     "execution_count": 97,
     "metadata": {},
     "output_type": "execute_result"
    }
   ],
   "source": [
    "correlation_Hprice = Hprice.corr()\n",
    "correlation_Hprice"
   ]
  },
  {
   "cell_type": "code",
   "execution_count": 98,
   "metadata": {},
   "outputs": [
    {
     "data": {
      "text/plain": [
       "0.3112992452065435"
      ]
     },
     "execution_count": 98,
     "metadata": {},
     "output_type": "execute_result"
    }
   ],
   "source": [
    "corr_1=Hprice['llot_size'].corr(Hprice['lhouse_size'])\n",
    "corr_1"
   ]
  }
 ],
 "metadata": {
  "colab": {
   "collapsed_sections": [],
   "name": "ECON 271- Final Project Code.ipynb",
   "provenance": []
  },
  "kernelspec": {
   "display_name": "Python 3",
   "language": "python",
   "name": "python3"
  },
  "language_info": {
   "codemirror_mode": {
    "name": "ipython",
    "version": 3
   },
   "file_extension": ".py",
   "mimetype": "text/x-python",
   "name": "python",
   "nbconvert_exporter": "python",
   "pygments_lexer": "ipython3",
   "version": "3.8.5"
  }
 },
 "nbformat": 4,
 "nbformat_minor": 4
}
